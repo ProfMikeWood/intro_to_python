{
 "cells": [
  {
   "cell_type": "markdown",
   "id": "49e61e1c",
   "metadata": {},
   "source": [
    "# Control Flow"
   ]
  },
  {
   "cell_type": "markdown",
   "id": "0c3a7daa-0a0a-481c-974f-6acd970606db",
   "metadata": {},
   "source": [
    "Name:\n",
    "\n",
    "Date:\n",
    "\n",
    "Learning Objectives:\n",
    "By the end of this lesson, you should be able to:\n",
    "1. Write `if-elif-else` statements to control decisions within a code block\n",
    "2. Utilize a `for` loop to iterate through a series of objects\n",
    "3. Implement a `while` loop to continue excuting code as long as a condition is met"
   ]
  },
  {
   "cell_type": "markdown",
   "id": "0d4b0f71",
   "metadata": {},
   "source": [
    "# Part 1: if-elif-else statements"
   ]
  },
  {
   "cell_type": "markdown",
   "id": "acf1e5a8",
   "metadata": {},
   "source": [
    "An `if` statement is a handy piece of code to control whether a given piece of code is going to run. The `if` keyword is followed by a condition that can be interpreted to be True or False, followed by a colon. Below the if statement, all lines to be run when the condition is true are indented using 4 spaces. To end the code block, the indendation is decreased "
   ]
  },
  {
   "cell_type": "code",
   "execution_count": 1,
   "id": "58d5c54f",
   "metadata": {},
   "outputs": [],
   "source": [
    "# write an if statement that will print a statement when a condition is true\n"
   ]
  },
  {
   "cell_type": "markdown",
   "id": "d3d65062",
   "metadata": {},
   "source": [
    "Often, we'd like to provide an alternative piece of code if our condition is not met -- this is accomplished with an `else` statement. The `else` keyword is followed by a colon and, similar to the `if` block, the code to be run is indented by 4 spaces."
   ]
  },
  {
   "cell_type": "code",
   "execution_count": 2,
   "id": "dc226d26",
   "metadata": {},
   "outputs": [],
   "source": [
    "# write an if statement that will print a statement when a condition is true\n",
    "# provide an else statement that will run when a statement is false\n"
   ]
  },
  {
   "cell_type": "markdown",
   "id": "90b4c7ca",
   "metadata": {},
   "source": [
    "Similarly, we may want to provide a cascade of options between the first `if` statement and the final `else` statement. In Python, the syntax for these intermediate statements is `elif`."
   ]
  },
  {
   "cell_type": "code",
   "execution_count": 3,
   "id": "bd5ee53d",
   "metadata": {},
   "outputs": [],
   "source": [
    "# write an if statement that will print a statement when a condition is true\n",
    "# provide an altertantive elif statment if there first statement is not true\n",
    "# provide an else statement that will run when none of the statements are true\n"
   ]
  },
  {
   "cell_type": "markdown",
   "id": "a0e14d68",
   "metadata": {},
   "source": [
    "### &#x1F914; Mini-Exercise\n",
    "Goal: Write a code block that will provide the name of the day of the week when provided with a number 1-7. For example, when `week_day = 1`, the block should return `Monday`, `week_day = 5`, the block should return `Friday`, etc. If the number is not in the range 1-7, print a statement that indicates the number is invalid."
   ]
  },
  {
   "cell_type": "code",
   "execution_count": 4,
   "id": "0240e349-5f01-469b-a277-1f838f95081d",
   "metadata": {},
   "outputs": [],
   "source": [
    "# define the week day number\n",
    "\n",
    "\n",
    "# write if, elif, and else statements to print the name of the\n",
    "# day of the week as described in the markdown cell above\n",
    "\n"
   ]
  },
  {
   "cell_type": "markdown",
   "id": "b55f32f1-1522-4466-8c09-c7ddeb3235fe",
   "metadata": {},
   "source": [
    "# Part 2: For Loops\n",
    "A `for` loop is a convienent piece of code that allows us to run a particular code block on a series of objects. Python provides several ways that `for` loops can be implemented. For example, a `for` loop can be used to iterate over a list:"
   ]
  },
  {
   "cell_type": "code",
   "execution_count": 5,
   "id": "75e3b4b9-5e05-4be6-86da-52d77b1a8e92",
   "metadata": {},
   "outputs": [],
   "source": [
    "# print the letters from the list\n",
    "letters = ['A','B','C','D','E']\n"
   ]
  },
  {
   "cell_type": "markdown",
   "id": "eef490e4-1dea-4674-866c-8d280b9e0d19",
   "metadata": {},
   "source": [
    "A `for` loop can also iterate over a range of numbers"
   ]
  },
  {
   "cell_type": "code",
   "execution_count": 6,
   "id": "1478e29b-d8b5-4305-b507-efa6fc382a01",
   "metadata": {},
   "outputs": [],
   "source": [
    "# print all numbers up to 10\n"
   ]
  },
  {
   "cell_type": "markdown",
   "id": "da0349f8-2252-4645-8ee2-4f452a95386d",
   "metadata": {},
   "source": [
    "In addition, `for` loops can be combined with `if` statements to achieve the power of both types of code blocks. To implement an `if` statement inside a `for` loop, provide another layer of indentation:"
   ]
  },
  {
   "cell_type": "code",
   "execution_count": 7,
   "id": "3a007eaf-3687-4214-bc72-6686cb4e057b",
   "metadata": {},
   "outputs": [],
   "source": [
    "# print all of the even numbers up to 10\n"
   ]
  },
  {
   "cell_type": "markdown",
   "id": "aba9ba5f",
   "metadata": {},
   "source": [
    "### &#x1F914; Mini-Exercise\n",
    "Goal: Make a list all prime numbers between 2 and 100. A prime number is one which is not divisible by any other number. For example, 5 is prime because all numbers lower than 5 (not including 1) have a non-zero remainder:"
   ]
  },
  {
   "cell_type": "code",
   "execution_count": 8,
   "id": "bc89c26e-5ebf-46f1-956d-051883e43c27",
   "metadata": {},
   "outputs": [
    {
     "name": "stdout",
     "output_type": "stream",
     "text": [
      "1\n",
      "2\n",
      "1\n"
     ]
    }
   ],
   "source": [
    "print(5%4)\n",
    "print(5%3)\n",
    "print(5%2)"
   ]
  },
  {
   "cell_type": "markdown",
   "id": "b59602bb-9c8b-4d26-a8ea-8feec16645ab",
   "metadata": {},
   "source": [
    "On the other hand, 6 is not prime because it has a zero-divisor:"
   ]
  },
  {
   "cell_type": "code",
   "execution_count": 9,
   "id": "0ec03801-4428-4797-a132-f122afdda6cf",
   "metadata": {},
   "outputs": [
    {
     "name": "stdout",
     "output_type": "stream",
     "text": [
      "0\n"
     ]
    }
   ],
   "source": [
    "print(6%3)"
   ]
  },
  {
   "cell_type": "markdown",
   "id": "fa93b81d-be16-405d-a972-983c6e86b8ad",
   "metadata": {},
   "source": [
    "For this exercise, use `for` loops and `if` statements to test whether each number between 2 and 100 is prime. If it's prime, then add it to a list called `prime_numbers`. At the end of your code, print out the list."
   ]
  },
  {
   "cell_type": "code",
   "execution_count": 10,
   "id": "c7cdae49-11f4-4dbd-8ce5-ae7c15d365a9",
   "metadata": {},
   "outputs": [],
   "source": [
    "# write code to make a lisrt of prime numbers between 2 and 100\n"
   ]
  },
  {
   "cell_type": "markdown",
   "id": "7f966cba",
   "metadata": {},
   "source": [
    "# Part 3: While Loops\n",
    "\n",
    "While loops in Python are the same as in other languages -- the loop will continue to run until a particular condition is met. The condition must be a Boolean expression that returns either `True` or `False`.\n",
    "\n",
    "### Boolean Operators\n",
    "\n",
    "| operator | symbol |\n",
    "| -------- | ------ |\n",
    "| less than | `<`   |\n",
    "| less than or equal | `<=`   |\n",
    "| is equal | `==`   |\n",
    "| greater than or equal | `>=`   |\n",
    "| greater than | `>`   |\n",
    "| not equal | `!=` |"
   ]
  },
  {
   "cell_type": "code",
   "execution_count": 11,
   "id": "e0dad444-7483-4239-9f4e-97210ae55f52",
   "metadata": {},
   "outputs": [],
   "source": [
    "# write a while loop to print all numbers between 5 and 20 (inclusive)\n"
   ]
  },
  {
   "cell_type": "markdown",
   "id": "b8fd00cc-8e66-4093-b892-bbfba49c3475",
   "metadata": {},
   "source": [
    "### Combining Boolean Operators\n",
    "In Python, combining boolean operators is simple -- just use the key words `or` or `and`!"
   ]
  },
  {
   "cell_type": "code",
   "execution_count": 12,
   "id": "a5f96010-5bb4-4c04-b81e-5a29755de6d6",
   "metadata": {},
   "outputs": [],
   "source": [
    "# write a loop to print numbers between 5 and 20, but don't print more than 5 values\n"
   ]
  },
  {
   "cell_type": "markdown",
   "id": "6485af7f-cae6-4ba2-a4ee-83f83d759f20",
   "metadata": {},
   "source": [
    "## &#x2757; Infinite Loops\n",
    "When using a `while` loop, it is incredibly easy to write an infinite loop. It's always a good idea to know how to escape an infinite loop. When running from the command line, you can use the standared `command-C` or `CTRL-C` to stop code that is running. In a Jupyter Notebook, use the Stop button above."
   ]
  },
  {
   "cell_type": "code",
   "execution_count": 13,
   "id": "f50f7518-bf38-46c1-b35d-041f62ec13c2",
   "metadata": {
    "scrolled": true
   },
   "outputs": [
    {
     "ename": "KeyboardInterrupt",
     "evalue": "",
     "output_type": "error",
     "traceback": [
      "\u001b[0;31m---------------------------------------------------------------------------\u001b[0m",
      "\u001b[0;31mKeyboardInterrupt\u001b[0m                         Traceback (most recent call last)",
      "Cell \u001b[0;32mIn[13], line 4\u001b[0m\n\u001b[1;32m      2\u001b[0m i \u001b[38;5;241m=\u001b[39m \u001b[38;5;241m0\u001b[39m\n\u001b[1;32m      3\u001b[0m j\u001b[38;5;241m=\u001b[39m\u001b[38;5;241m0\u001b[39m\n\u001b[0;32m----> 4\u001b[0m \u001b[38;5;28;01mwhile\u001b[39;00m i\u001b[38;5;241m==\u001b[39m\u001b[38;5;241m0\u001b[39m:\n\u001b[1;32m      5\u001b[0m     j\u001b[38;5;241m+\u001b[39m\u001b[38;5;241m=\u001b[39m\u001b[38;5;241m1\u001b[39m\n\u001b[1;32m      6\u001b[0m \u001b[38;5;66;03m# how can you tell whether a code block in Jupyter is running?\u001b[39;00m\n",
      "\u001b[0;31mKeyboardInterrupt\u001b[0m: "
     ]
    }
   ],
   "source": [
    "# this is an infinite loop - run it and practice killing it\n",
    "i = 0\n",
    "j=0\n",
    "while i==0:\n",
    "    j+=1\n",
    "# how can you tell whether a code block in Jupyter is running?"
   ]
  }
 ],
 "metadata": {
  "kernelspec": {
   "display_name": "teaching",
   "language": "python",
   "name": "teaching"
  },
  "language_info": {
   "codemirror_mode": {
    "name": "ipython",
    "version": 3
   },
   "file_extension": ".py",
   "mimetype": "text/x-python",
   "name": "python",
   "nbconvert_exporter": "python",
   "pygments_lexer": "ipython3",
   "version": "3.11.3"
  }
 },
 "nbformat": 4,
 "nbformat_minor": 5
}