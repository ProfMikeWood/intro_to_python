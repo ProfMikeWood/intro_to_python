{
 "cells": [
  {
   "cell_type": "markdown",
   "id": "73ef0815",
   "metadata": {},
   "source": [
    "# Classes and Objects - Part 2"
   ]
  },
  {
   "cell_type": "markdown",
   "id": "9c7c86bd-3fdf-4a44-9a4e-1ca9e83966db",
   "metadata": {},
   "source": [
    "Name:\n",
    "\n",
    "Date:\n",
    "\n",
    "Learning Objectives:\n",
    "By the end of this lesson, you should be able to:\n",
    "1. List the four pillars of object-oriented programming and demonstrate them in Python\n",
    "2. Implement special method attributes in custom classes"
   ]
  },
  {
   "cell_type": "markdown",
   "id": "319c70c8-ec24-452b-93dc-3ec30a194dbe",
   "metadata": {},
   "source": [
    "### Picking up where we left off"
   ]
  },
  {
   "cell_type": "code",
   "execution_count": 1,
   "id": "2c3cde0c-5f6f-47ac-93f6-2570636f1319",
   "metadata": {},
   "outputs": [],
   "source": [
    "# define a class called School that has:\n",
    "#    - one attribute for name that is provided as an argument and assigned at initialization\n",
    "#    - one method called print_name that prints the School object's name\n"
   ]
  },
  {
   "cell_type": "markdown",
   "id": "65493b77-018d-4dec-be20-22bda5156caf",
   "metadata": {},
   "source": [
    "## Part 1: Object-Oriented Programming in Python\n",
    "Object-oriented programming (OOP) is the idea that code should be centered around objects. Classes are used to generate objects that hold data. Further, objects contain methods that are used to access and modify the data that they hold.\n",
    "\n",
    "OOP is a coding framework that is taught often in Computer Science courses. The extent to which OOP is implemented in coding frameworks depends on your development team. Some teams are more strict with OOP protocols than others. Versitile developers will be well-versed in OOP, so it's a good idea to build a foundation for implementing code with OOP approach in Python."
   ]
  },
  {
   "cell_type": "markdown",
   "id": "2c040939-4b5a-4cfe-a07c-a7048a82bf7f",
   "metadata": {},
   "source": [
    "There are 4 \"pillars\" of Object-Oriented Programming:\n",
    " - inheritance - new classes are created from existing classes, providing a mechanism to reuse code and facilitate efficient development\n",
    " - polymorphism - methods can be used equivalently across similar classes, allowing for versitile and easily-maintained code\n",
    " - abstraction - classes are derived from simplified frameworks so that development is focused on underlying details rather than implementation\n",
    " - encapsulation - classes contain methods to access and manipulate data contained in object, helping to protect data from unintended manipulation"
   ]
  },
  {
   "cell_type": "markdown",
   "id": "0e47ebe0-16b1-4f55-8436-4ae8bb027c1b",
   "metadata": {},
   "source": [
    "### Inheritance"
   ]
  },
  {
   "cell_type": "markdown",
   "id": "a26748b4-b24d-48d1-bd9f-445a896cb6be",
   "metadata": {},
   "source": [
    "As we observed in Part 1, subclasses can *inherit* attributes and methods from a given class. Begin by defining three subclasses of the School class:"
   ]
  },
  {
   "cell_type": "code",
   "execution_count": 2,
   "id": "48f2ba44-4e79-4c86-8620-5ea76c302aaf",
   "metadata": {},
   "outputs": [],
   "source": [
    "# define a new class called Kindergarten which extends the School class\n",
    "# fill in the body of the class with the keyword pass\n",
    "\n",
    "\n",
    "# define a new class called Montessori which extends the School class\n",
    "# fill in the body of the class with the keyword pass\n",
    "\n",
    "\n",
    "# define a new class called University which extends the School class\n",
    "# fill in the body of the class with the keyword pass\n"
   ]
  },
  {
   "cell_type": "markdown",
   "id": "74b1aa52-8e00-4e72-a192-3c29e48c03d4",
   "metadata": {},
   "source": [
    "Since each class is a subclass of the superclass `School`, each subclass has the `print_name` method from inherited from the superclass:"
   ]
  },
  {
   "cell_type": "code",
   "execution_count": 3,
   "id": "8ad085f1-9cc9-4d55-8921-413334bd1f14",
   "metadata": {},
   "outputs": [],
   "source": [
    "# create a list of school objects using each of the subclasses above\n",
    "\n",
    "\n",
    "# loop through each of the School objects and call the print_name method\n"
   ]
  },
  {
   "cell_type": "markdown",
   "id": "ac7e8224-6f72-4442-8c65-4a20ba955265",
   "metadata": {},
   "source": [
    "The inheritance property of classes allows the developer to focus on the development of subclasses without having to rework the details of the methods and attributes defined within the superclass. Further, if the superclass method needs to be updated, then it only needs to be done once rather than in all of the subclasses."
   ]
  },
  {
   "cell_type": "markdown",
   "id": "7c7a0e0a-ea15-43ee-ad07-b89b5d5992c3",
   "metadata": {},
   "source": [
    "### Polymorphism"
   ]
  },
  {
   "cell_type": "markdown",
   "id": "b53fffd4-68cd-49e4-b8df-69e0817d44bd",
   "metadata": {},
   "source": [
    "In the previous example, we saw that we could use the same `print_method` on objects created in each subclass because it was inherited from the superclass. We can go a step further and define functions in each of our subclasses that could be used in a similar way - this is the idea of polymorphism. Modify the subclasses above to include a new method called `print_age_group`:"
   ]
  },
  {
   "cell_type": "code",
   "execution_count": 4,
   "id": "b9481339-f92d-4900-bf6d-0c99a31b2138",
   "metadata": {},
   "outputs": [],
   "source": [
    "# define a new class called Kindergarten which extends the School class\n",
    "# fill in the body of the class with a method to print the following string:\n",
    "# 'In Kindergarten, the age group is 3-5 years old.'\n",
    "\n",
    "\n",
    "# define a new class called Montessori which extends the School class\n",
    "# fill in the body of the class with a method to print the following string:\n",
    "# 'In Montessori schools, the age group is 5-18 years old.'\n",
    "\n",
    "\n",
    "# define a new class called University which extends the School class\n",
    "# fill in the body of the class with a method to print the following string:\n",
    "# 'The age group of university students is typically 17 or older.'\n"
   ]
  },
  {
   "cell_type": "markdown",
   "id": "27c7f2d9-0939-4845-98f6-70236c7f0fb2",
   "metadata": {},
   "source": [
    "We can create three objects from each class and use the function the same way, even though the function is uniquely defined in each subclass:"
   ]
  },
  {
   "cell_type": "code",
   "execution_count": 5,
   "id": "978e0811-a7ce-49b0-83c8-638e5dee0b5b",
   "metadata": {},
   "outputs": [],
   "source": [
    "# recreate the list of school objects using each of the subclasses above\n",
    "\n",
    "\n",
    "# loop through each of the School objects and call the print_age_group method\n"
   ]
  },
  {
   "cell_type": "markdown",
   "id": "18deaf46-cd2f-4f2f-b1ad-e039947c4119",
   "metadata": {},
   "source": [
    "It's important to note that we are accessing a *different* method from each of our subclasses, but using it in the same way. This is similar to, but subtly different than, using the *same* method inherited in each subclass from the superclass."
   ]
  },
  {
   "cell_type": "markdown",
   "id": "25debd30-26a1-4b5e-9b6c-c56f1309a717",
   "metadata": {},
   "source": [
    "### Abstraction"
   ]
  },
  {
   "cell_type": "markdown",
   "id": "db2db500-68e6-4abe-81ea-9767f0c40b00",
   "metadata": {},
   "source": [
    "As a developer, you may want to ensure that subclasses generated from your class contain certain methods. This will ensure that, when the subclass is implemented alongside other existing subclasses, each will have the same function. The idea of an abstract class is that it provides a framework by which other classes that are defined from it are defined.\n",
    "\n",
    "Python has a specific module for this purpose called `abc` a.k.a. the abstract base class. There are two key components of the `abc` module: a superclass called `ABC` and a decorator called `abstracted method`. Both can be imported from `abc` as follows:"
   ]
  },
  {
   "cell_type": "code",
   "execution_count": 6,
   "id": "88926545-15c8-40ee-abcb-ed98915c8b6f",
   "metadata": {},
   "outputs": [],
   "source": [
    "# import ABC and abstractmethod from the abc module\n"
   ]
  },
  {
   "cell_type": "markdown",
   "id": "133606b7-fab3-44bd-a8ed-62f0986a8511",
   "metadata": {},
   "source": [
    "Using `abc`, a class can then be described by a framework:"
   ]
  },
  {
   "cell_type": "code",
   "execution_count": 7,
   "id": "7a31365b-3420-47e8-90c0-a26fb14d09b0",
   "metadata": {},
   "outputs": [],
   "source": [
    "from abc import ABC, abstractmethod\n",
    "\n",
    "# Edit the School class above to extend the ABC class\n",
    "# write an abstract method called typical_class_size \n",
    "# which must be implemnted in the subclasses of School\n",
    "# provide the keyword pass for the body of the typical_class_size method\n",
    "\n",
    "\n",
    "# define a new class called Kindergarten which extends the School class\n",
    "# fill in the body of the class with a typical_class_size method to print the following string:\n",
    "# 'The typical class size in Kindergarten is 20 students.'\n",
    "\n",
    "\n",
    "# define a new class called Montessori which extends the School class\n",
    "# fill in the body of the class with a typical_class_size method to print the following string:\n",
    "# 'The typical class size in Montessori schools is 50 students.'\n",
    "\n",
    "\n",
    "# define a new class called University which extends the School class\n",
    "# fill in the body of the class with a typical_class_size method to print the following string:\n",
    "# 'The typical class size of university classes is 20-400 students.'\n"
   ]
  },
  {
   "cell_type": "code",
   "execution_count": 8,
   "id": "06f8fa80-e394-4afc-9ed8-06cb5cb47ac6",
   "metadata": {},
   "outputs": [],
   "source": [
    "# recreate the list of school objects using each of the subclasses above\n",
    "\n",
    "\n",
    "# loop through each of the School objects and call the print_age_group method\n"
   ]
  },
  {
   "cell_type": "markdown",
   "id": "c8166b0e-503c-497c-b0af-b11a38b68716",
   "metadata": {},
   "source": [
    "Questions:\n",
    "1. What happens if you remove the abstractmethod decorator (without any other changes)?\n",
    "2. What happens if you also remove the `typical_class_size` method from one of the subclasses (without any other changes)?"
   ]
  },
  {
   "cell_type": "markdown",
   "id": "9ee176bb-fd62-4d96-a065-ab65d942c103",
   "metadata": {},
   "source": [
    "Key point: By extending the `ABC` class and using the `abstractmethod` decorator, the School class is designed to throw an error if a subclass is not organized with the necessary components."
   ]
  },
  {
   "cell_type": "markdown",
   "id": "08ee2b6c-fccc-4bed-ba0b-54e7b2874fcc",
   "metadata": {},
   "source": [
    "### Encapsulation\n",
    "Finally, the idea of encapsulation is that an object should contain all of the data and methods required for its operation. For example, we can use getters and setters if we like:"
   ]
  },
  {
   "cell_type": "code",
   "execution_count": 9,
   "id": "ccd58fbd-84d5-41a9-bc39-2a495b20fd1b",
   "metadata": {},
   "outputs": [],
   "source": [
    "# revisit the School class\n",
    "\n",
    "\n",
    "        # call the set_enrollment method below to set\n",
    "        # the enrollment instance variable\n",
    "\n",
    "\n",
    "    # define a method set_enrollment which takes in students\n",
    "    # as an argument and assigns them to an enrollment instance variable\n",
    "\n",
    "        \n",
    "    # define a method get_enrollment which returns the\n",
    "    # enrollment instance variable    \n"
   ]
  },
  {
   "cell_type": "markdown",
   "id": "8494e676-ea6e-4640-90e8-0c6d43b371e3",
   "metadata": {},
   "source": [
    "Try the getter and setter below:"
   ]
  },
  {
   "cell_type": "code",
   "execution_count": 10,
   "id": "7d047063-29dc-4706-bc86-da6a7d7b78d1",
   "metadata": {},
   "outputs": [],
   "source": [
    "# define a School object for sjsu\n",
    "\n",
    "\n",
    "# try the getter method and print the number of students enrolled\n",
    "\n",
    "\n",
    "# try the setter method\n",
    "\n",
    "\n",
    "# try the getter method again and print the number of students enrolled\n",
    "\n",
    "\n",
    "# try setting the enrollment variable manually\n",
    "\n",
    "\n",
    "# try accessing the enrollment variable manually\n",
    "# and printint out its value\n"
   ]
  },
  {
   "cell_type": "markdown",
   "id": "4d051205-ef77-43dc-a9e6-1ba2a5e65b70",
   "metadata": {},
   "source": [
    "Questions:\n",
    "1. What happens if we repeat the same thing but use one underscore in front of the variable name?\n",
    "2. What happens if we repeat the same thing but use two underscores in front of the variable name?"
   ]
  },
  {
   "cell_type": "markdown",
   "id": "779cca8f-dda4-481a-b1ee-c2b2b24da15e",
   "metadata": {},
   "source": [
    "A note about Python: hidden variables are not that common. Encapsulation usually means that you can use a method without worrying much about the internal machinery that makes it work. Typically, you just use the single underscore variables to signal to co-developers that the variables are designed to be used for internal use, rather than accessed by the use of the object (although they could if they wanted to)."
   ]
  },
  {
   "cell_type": "markdown",
   "id": "32d96a62-2edf-4169-a274-c558c1eade06",
   "metadata": {},
   "source": [
    "### &#x1F914; Mini-Exercise\n",
    "Goal: With a partner, create your own class structure to demonstrate at least two principles of OOP. When complete, uploaded your classes to the discussion for today's lecture and list which principles you are demonstrating."
   ]
  },
  {
   "cell_type": "code",
   "execution_count": 11,
   "id": "9e266f88-9bc7-4c5b-9217-620119291162",
   "metadata": {},
   "outputs": [],
   "source": [
    "# create your OOP class examples here"
   ]
  },
  {
   "cell_type": "code",
   "execution_count": 12,
   "id": "4af172b2-47b3-4406-a506-f65e6bf76893",
   "metadata": {},
   "outputs": [],
   "source": [
    "# test your classes and/or demo your OOP principles here"
   ]
  },
  {
   "cell_type": "markdown",
   "id": "6833d45c-0381-4c71-b4f8-b7e326de6a18",
   "metadata": {},
   "source": [
    "## Part 2: Special Method Attributes\n",
    "In Python, we can override the functions that underly the typical Python operators in our classes. For example, in Python, we don't have a toString() method. However, we can override the str() method to implement this functionality."
   ]
  },
  {
   "cell_type": "code",
   "execution_count": 13,
   "id": "082bfa44-0750-437b-b7fa-506c96e85ecc",
   "metadata": {},
   "outputs": [],
   "source": [
    "# define a class called University\n",
    "# fill in the __init__ body with the simple name assignment, as above\n",
    "# add a new __str__ method to return the name of the string\n"
   ]
  },
  {
   "cell_type": "code",
   "execution_count": 14,
   "id": "172adbd6-cfc0-4487-9c5a-4b9b9cf0ca66",
   "metadata": {},
   "outputs": [],
   "source": [
    "# define a new University for San Jose State University\n",
    "\n",
    "\n",
    "# convert the object to a str and make a print statement:\n"
   ]
  },
  {
   "cell_type": "markdown",
   "id": "3d2bea0d-0cc9-4ea0-8e2d-54d82a038d3c",
   "metadata": {},
   "source": [
    "Try the above example without the `__str__` method - what happens?"
   ]
  },
  {
   "cell_type": "markdown",
   "id": "20559c2c-81a7-4fa7-9f0c-dc591fd6f671",
   "metadata": {},
   "source": [
    "### &#x1F914; Mini-Exercise\n",
    "Goal: Edit the Univerity class to override the `__add__` method. The new method should return the name of the name instance variable to include the string ' and ' as well as the name of the new university. "
   ]
  },
  {
   "cell_type": "code",
   "execution_count": 15,
   "id": "52d2ecdd-9a5f-4693-8076-7c086ba85471",
   "metadata": {},
   "outputs": [],
   "source": [
    "# edit the University class here\n"
   ]
  },
  {
   "cell_type": "code",
   "execution_count": 16,
   "id": "4759e97f-bc9c-46f7-8bef-19d25e10c412",
   "metadata": {},
   "outputs": [],
   "source": [
    "# define two Univeristy objects for sjsu and ucsc\n",
    "\n",
    "\n",
    "# print the output of sjsu+ucsc\n"
   ]
  }
 ],
 "metadata": {
  "kernelspec": {
   "display_name": "teaching",
   "language": "python",
   "name": "teaching"
  },
  "language_info": {
   "codemirror_mode": {
    "name": "ipython",
    "version": 3
   },
   "file_extension": ".py",
   "mimetype": "text/x-python",
   "name": "python",
   "nbconvert_exporter": "python",
   "pygments_lexer": "ipython3",
   "version": "3.11.3"
  }
 },
 "nbformat": 4,
 "nbformat_minor": 5
}