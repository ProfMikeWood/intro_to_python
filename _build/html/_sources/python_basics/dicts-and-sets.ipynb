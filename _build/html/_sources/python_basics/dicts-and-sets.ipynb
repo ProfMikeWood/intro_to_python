{
 "cells": [
  {
   "cell_type": "markdown",
   "id": "49e61e1c",
   "metadata": {},
   "source": [
    "# Dictionaries"
   ]
  },
  {
   "cell_type": "markdown",
   "id": "0c3a7daa-0a0a-481c-974f-6acd970606db",
   "metadata": {},
   "source": [
    "Learning Objectives:\n",
    "By the end of this lesson, you should be able to:\n",
    "1. Create and edit Python dictionaries\n",
    "2. Describe the types of items that can used as keys in a dictionary"
   ]
  },
  {
   "cell_type": "markdown",
   "id": "0d4b0f71",
   "metadata": {},
   "source": [
    "# Creating and Editing Dictionaries"
   ]
  },
  {
   "cell_type": "markdown",
   "id": "acf1e5a8",
   "metadata": {},
   "source": [
    "Dictionaries are used as a \"look-up table\" that associate two sets of objects. The items or \"keys\" in a dictionary must be unique but the correspondence does not need to be one-to-one."
   ]
  },
  {
   "cell_type": "code",
   "execution_count": 1,
   "id": "58d5c54f",
   "metadata": {},
   "outputs": [],
   "source": [
    "# make a dictionary to reference integers to their string representations\n",
    "my_dict = {1:\"one\",\n",
    "           2:\"two\",\n",
    "           3:\"three\"}"
   ]
  },
  {
   "cell_type": "markdown",
   "id": "df75076a",
   "metadata": {},
   "source": [
    "To access the value corresponding to a key in the dictionary, pass the key: "
   ]
  },
  {
   "cell_type": "code",
   "execution_count": 2,
   "id": "10231524",
   "metadata": {},
   "outputs": [
    {
     "name": "stdout",
     "output_type": "stream",
     "text": [
      "two\n"
     ]
    }
   ],
   "source": [
    "# get the string representation of the interger 2\n",
    "print(my_dict[2])"
   ]
  },
  {
   "cell_type": "markdown",
   "id": "8546d5a5",
   "metadata": {},
   "source": [
    "We can access all of the look-up values with the `.keys()` method:"
   ]
  },
  {
   "cell_type": "code",
   "execution_count": 3,
   "id": "7db476bf",
   "metadata": {},
   "outputs": [
    {
     "data": {
      "text/plain": [
       "dict_keys([1, 2, 3])"
      ]
     },
     "execution_count": 3,
     "metadata": {},
     "output_type": "execute_result"
    }
   ],
   "source": [
    "# use the keys() method to access the dictionary keys\n",
    "my_dict.keys()"
   ]
  },
  {
   "cell_type": "markdown",
   "id": "cb8096f9-7aa9-4245-88bd-0a3eec091f61",
   "metadata": {},
   "source": [
    "It's important to note that the keys aren't a list:"
   ]
  },
  {
   "cell_type": "code",
   "execution_count": 4,
   "id": "aae95910-ce40-4e29-9734-8cb4d3ea68b6",
   "metadata": {},
   "outputs": [
    {
     "name": "stdout",
     "output_type": "stream",
     "text": [
      "<class 'dict_keys'>\n"
     ]
    }
   ],
   "source": [
    "# check the type of the dict keys\n",
    "print(type(my_dict.keys()))\n",
    "\n",
    "# try to access one of the keys using an index - what happens?\n",
    "keys = my_dict.keys()\n",
    "# print(keys[0])"
   ]
  },
  {
   "cell_type": "markdown",
   "id": "7b20e52f",
   "metadata": {},
   "source": [
    "Dictionaries are flexible and can be resized as needed. Editing a dictionary is similar to lists: dictionaries have a `pop` method for removing keys and keys can be (re-)assigned in a dictionary using the index notation:"
   ]
  },
  {
   "cell_type": "code",
   "execution_count": 5,
   "id": "a0b2f9ca",
   "metadata": {},
   "outputs": [
    {
     "name": "stdout",
     "output_type": "stream",
     "text": [
      "{1: 'one', 3: 'three', 4: 'four'}\n"
     ]
    }
   ],
   "source": [
    "# remove the 2:\"two\" key value pair using the pop method:\n",
    "my_dict.pop(2)\n",
    "\n",
    "# add a 4:\"four\" key-value pair using index notation:\n",
    "my_dict[4] = \"four\"\n",
    "\n",
    "# print my_dict\n",
    "print(my_dict)"
   ]
  },
  {
   "cell_type": "markdown",
   "id": "b55f32f1-1522-4466-8c09-c7ddeb3235fe",
   "metadata": {},
   "source": [
    "### &#x1F914; Mini-Exercise\n",
    "Make a dictionary for the following names of classes:\n",
    "\n",
    "| Department Code | Course Number | Course Name       |\n",
    "| --------------- | ------------- | ----------------- |\n",
    "| MATH            | 123           | Advanced Calculus | \n",
    "| MATH            | 123           | Partial Differential Equations | \n",
    "| CS              | 123           | Bioinformatics    | \n",
    "| CS              | 133           | Introduction to Data Visualization | \n",
    "\n",
    "You should be able to pass a pair of values corresponding to the department code (str) and the course number (int) and the dictionary should return the course name."
   ]
  },
  {
   "cell_type": "code",
   "execution_count": 6,
   "id": "5de2d9e5-8bd7-4af8-b17f-919f83394515",
   "metadata": {},
   "outputs": [
    {
     "name": "stdout",
     "output_type": "stream",
     "text": [
      "Partial Differential Equations\n"
     ]
    }
   ],
   "source": [
    "# create your dictionary here\n",
    "course_dict = {('MATH',123): 'Advanced Calculus',\n",
    "               ('MATH',133): 'Partial Differential Equations',\n",
    "               ('CS',123): 'Bioinformatics',\n",
    "               ('CS',133): 'Introduction to Data Visualization'}\n",
    "print(course_dict[('MATH',133)])"
   ]
  },
  {
   "cell_type": "markdown",
   "id": "7f966cba",
   "metadata": {},
   "source": [
    "## &#x2757; Syntax Warning\n",
    "Python uses the same syntax for sets and dictionaries -- the curly braces `{}`. The only difference is that dictionary entries are included in pairs separated by colons while sets have entries like a list"
   ]
  },
  {
   "cell_type": "markdown",
   "id": "e8ef61db-70d6-4a4e-8c2e-3ec5d25bedff",
   "metadata": {},
   "source": [
    "## Common Dictionary Methods\n",
    "\n",
    "| Method\t| Description                                                            |\n",
    "| --------- | ---------------------------------------------------------------------- |\n",
    "| keys()    | Views all the keys in the dictionary                                   |\n",
    "| values()  | Views all the values in the dictionary                                 |\n",
    "| get()    \t| Returns the value of a key if it exists, otherwise returns a default   |\n",
    "| copy()    | Makes a copy of the dictionary                                         |\n",
    "| update()  | Updates the entries of a dictionary given those in a second dictionary |"
   ]
  },
  {
   "cell_type": "markdown",
   "id": "3d122a06-53d5-43e5-8f3f-744c702b49bd",
   "metadata": {},
   "source": [
    "### Using `get` rather than a key explicitly\n"
   ]
  },
  {
   "cell_type": "code",
   "execution_count": 7,
   "id": "346f6bcd-abe9-4876-9e2a-22317d9deae4",
   "metadata": {},
   "outputs": [
    {
     "name": "stdout",
     "output_type": "stream",
     "text": [
      "Mike\n",
      "Mike\n",
      "None\n"
     ]
    }
   ],
   "source": [
    "# define a dictionary with two entries\n",
    "my_dict = {'Name':'Mike','Surname':'Wood'}\n",
    "\n",
    "# the get method works the same as acessing with a key as long as the entry is in the dict\n",
    "print(my_dict.get('Name',None))\n",
    "print(my_dict['Name'])\n",
    "\n",
    "\n",
    "# but it is beneficial to use in case the entry cannot be found\n",
    "print(my_dict.get('Middle Name',None))\n",
    "# print(my_dict['Middle Name'])"
   ]
  },
  {
   "cell_type": "markdown",
   "id": "a84b4bc8-a0bc-4ac2-a2ed-fe4d77de3992",
   "metadata": {},
   "source": [
    "## Combining Dictionaries\n",
    "Dictionaries can be combined using a union or in place."
   ]
  },
  {
   "cell_type": "code",
   "execution_count": 8,
   "id": "18430f61-dcb0-4133-825a-4928221c96c0",
   "metadata": {},
   "outputs": [
    {
     "name": "stdout",
     "output_type": "stream",
     "text": [
      "c {'one': 1, 'two': 2}\n",
      "a {'one': 1}\n",
      "a {'one': 1, 'two': 2}\n"
     ]
    }
   ],
   "source": [
    "# As of Python 3.9, the union operator can be used to join two dictionaries\n",
    "a = {'one':1}\n",
    "b = {'two':2}\n",
    "c = a | b \n",
    "print('c', c)\n",
    "\n",
    "# However, this does not change the dictionary contents\n",
    "print('a', a)\n",
    "\n",
    "# If you want to join in place, use the update method\n",
    "a.update(b)\n",
    "print('a',a)"
   ]
  }
 ],
 "metadata": {
  "kernelspec": {
   "display_name": "cs122",
   "language": "python",
   "name": "cs122"
  },
  "language_info": {
   "codemirror_mode": {
    "name": "ipython",
    "version": 3
   },
   "file_extension": ".py",
   "mimetype": "text/x-python",
   "name": "python",
   "nbconvert_exporter": "python",
   "pygments_lexer": "ipython3",
   "version": "3.10.12"
  }
 },
 "nbformat": 4,
 "nbformat_minor": 5
}
