{
 "cells": [
  {
   "cell_type": "markdown",
   "id": "73ef0815",
   "metadata": {},
   "source": [
    "# Parking Lot Ideas"
   ]
  },
  {
   "cell_type": "markdown",
   "id": "9c7c86bd-3fdf-4a44-9a4e-1ca9e83966db",
   "metadata": {},
   "source": [
    "Name:\n",
    "\n",
    "Date:\n",
    "\n",
    "Learning Objectives:\n",
    "By the end of this lesson, you should be able to:\n",
    "1. Compress (zip) a file and compute the size of files and folders\n",
    "2. Run shell commands from Python\n",
    "3. Raise UnicodeDecodeErrors"
   ]
  },
  {
   "cell_type": "markdown",
   "id": "1c0bbd8a-33dd-48ba-9296-58591e42d189",
   "metadata": {},
   "source": [
    "## Part 1: Compressing and Unzipping Files\n",
    "Often, we may want to zip up the contents of a directory for distribution. To zip some files, we can use the `zipfile` modules. We can add files to a `zipfile` object using the paths. Try creating a zip file with the contents of the following code."
   ]
  },
  {
   "cell_type": "code",
   "execution_count": null,
   "id": "888266cc-9da6-4693-ad03-4f9742d20fc7",
   "metadata": {},
   "outputs": [],
   "source": [
    "# import the zipfile and os modules\n",
    "\n",
    "\n",
    "# make a file name for the output file\n",
    "\n",
    "\n",
    "# loop through the png files and write them to the zipfile\n",
    "\n",
    "    \n",
    "    # for each file in the png directory,\n",
    "    \n",
    "\n",
    "        # write to the zipfile if its a png file\n",
    "        "
   ]
  },
  {
   "cell_type": "markdown",
   "id": "be5c4ec7-eaa1-474f-a721-d104cc50636a",
   "metadata": {},
   "source": [
    "Once you have your zip file, move it to a new directory and take a peek inside. One issue here is that, by default, the paths are given as absolute paths. However, we probably don't want to distribute our files with the absolute path. In this case, we can use the `os.path.relpath` as an additional argument to the `write` method. To see how the `relpath` method words, let's try the following block:"
   ]
  },
  {
   "cell_type": "code",
   "execution_count": null,
   "id": "a2b3dee2-0b3a-4601-807a-e146bb58bf35",
   "metadata": {},
   "outputs": [],
   "source": [
    "# define a path to your CS_122 directory\n",
    "\n",
    "\n",
    "# find the full path to the 'Lecture_8-2' directory (the cwd) and print it\n",
    "\n",
    "\n",
    "# find the directory of the 'Lecture_8-2' directory relative to\n",
    "# the CS_122 directory (and print it)\n"
   ]
  },
  {
   "cell_type": "markdown",
   "id": "3866060a-3849-4a42-a997-f19b6b1d08e1",
   "metadata": {},
   "source": [
    "Using the above approach, we can remove the absolute path from our files in the zipped directory - we simply pass the relative path to the `write` command:"
   ]
  },
  {
   "cell_type": "code",
   "execution_count": null,
   "id": "87c1f9b6-19af-45d2-bb1f-214de1b0ef58",
   "metadata": {},
   "outputs": [],
   "source": [
    "# loop through the png files and write them to the zipfile\n",
    "\n",
    "    \n",
    "    # for each file in the png directory,\n",
    "    \n",
    "\n",
    "        # write to the zipfile if its a png file\n",
    "        "
   ]
  },
  {
   "cell_type": "markdown",
   "id": "8d0d9126-39d4-4d27-8d8c-356e9f608254",
   "metadata": {},
   "source": [
    "### Computing the size of files\n",
    "Now that we have zipped our files, we might conside how much space we really saved. What is the total size of the zipped directory relative to the full directory. To compute the size of a file, we can use the `os.path.getsize` method:"
   ]
  },
  {
   "cell_type": "code",
   "execution_count": null,
   "id": "e0d6f559-9d6f-411c-a63b-c6eadfac1fb1",
   "metadata": {},
   "outputs": [],
   "source": [
    "# print the size of the zip file\n",
    "\n",
    "\n",
    "# compute and print the size of the png files prior to zipping them\n",
    "\n",
    "\n",
    "# print the compression ratio\n"
   ]
  },
  {
   "cell_type": "markdown",
   "id": "854c3848-4565-4a14-b7d9-21d100812d6f",
   "metadata": {},
   "source": [
    "As you can see, we haven't *compressed* anything - we just combined all of the files into a single distributable archive. If we would also like to add some compression, we can use on the of the compression types such as `zipfile.ZIP_DEFLATED`. Try adding this to the zip code (2 code blocks above) and running the computation again."
   ]
  },
  {
   "cell_type": "markdown",
   "id": "cc23d00e-04dd-4e89-abd6-42bc1419f306",
   "metadata": {},
   "source": [
    "## &#x1F914; Mini-execise\n",
    "Goal: Zip up the provided text files and test the relative compression rate."
   ]
  },
  {
   "cell_type": "code",
   "execution_count": null,
   "id": "92238096-f38c-4f37-babf-f6d1f82a8c4f",
   "metadata": {},
   "outputs": [],
   "source": [
    "# make a file name for the output file\n",
    "\n",
    "\n",
    "# loop through the png files and write them to the zipfile\n",
    "\n",
    "    \n",
    "    # for each file in the txt directory,\n",
    "    \n",
    "\n",
    "        # write to the zipfile if its a txt file\n",
    "        "
   ]
  },
  {
   "cell_type": "code",
   "execution_count": null,
   "id": "398bd378-2cba-4676-8618-249aface8378",
   "metadata": {},
   "outputs": [],
   "source": [
    "# print the size of the zip file\n",
    "\n",
    "\n",
    "# compute and print the size of the png files prior to zipping them\n",
    "\n",
    "\n",
    "# print the compression ratio\n"
   ]
  },
  {
   "cell_type": "markdown",
   "id": "8e2abf89-9772-4421-8923-59d29802a068",
   "metadata": {},
   "source": [
    "## Part 2: Running shell commands from Python\n",
    "In a previous lesson, we ran out of time to examine the `subprocess` module. However, this module can be quite helpful if you would like to run shell commands from Python, so let's examine it here.  The most useful method of the `subprocess` module if Popen."
   ]
  },
  {
   "cell_type": "code",
   "execution_count": null,
   "id": "8ebfeae3-a042-4130-b3fb-023e3673631a",
   "metadata": {},
   "outputs": [],
   "source": [
    "# import the subprocess module\n",
    "\n",
    "\n",
    "# write a function to list the files in the current directory\n",
    "\n",
    "\n",
    "# the first and second arguments from Popen are the standard output and standard error\n",
    "# if a string is desired, then \"pipe\" the stdout\n",
    "\n",
    "\n",
    "# print the type of output\n",
    "\n",
    "\n",
    "# convert the type of the output to a string\n",
    "\n",
    "\n",
    "# split the output and print line by line\n"
   ]
  },
  {
   "cell_type": "markdown",
   "id": "0c30acb7-b2a5-4c87-9be0-47cf026420bd",
   "metadata": {},
   "source": [
    "### Running a Program"
   ]
  },
  {
   "cell_type": "code",
   "execution_count": null,
   "id": "d434398c-cb3b-4969-864d-f79fca0b2e32",
   "metadata": {},
   "outputs": [],
   "source": [
    "# use the Popen comand to open your text editor\n"
   ]
  },
  {
   "cell_type": "markdown",
   "id": "45401da3-fe29-4ade-9c1a-a004a7993d02",
   "metadata": {},
   "source": [
    "## Part 3: Unicode Storage and Errors on Mac vs Windows"
   ]
  },
  {
   "cell_type": "markdown",
   "id": "495f6a2b-1d7a-4572-bd9d-7c76b792c62f",
   "metadata": {},
   "source": [
    "Recall from Lecture 6-1 that we were investigating a issue with UnicodeDecodeErrors. In particular, we found that the following code will give an error on Mac but it will not give an error on Windows:"
   ]
  },
  {
   "cell_type": "code",
   "execution_count": null,
   "id": "7bfaaca5-c61d-4ecc-98d5-00c1699b2430",
   "metadata": {},
   "outputs": [],
   "source": [
    "# open file_3 from lecture 6-1\n"
   ]
  },
  {
   "cell_type": "markdown",
   "id": "ae96bcb7-0d8a-4827-a74c-c89fb604efeb",
   "metadata": {},
   "source": [
    "The reason for this difference is that the native encoding on Mac is utf-8 while on Windows, it is utf-16.\n",
    "\n",
    "To get the same character, I recommended manually raising a `UnicodeDecodeError` as follows:"
   ]
  },
  {
   "cell_type": "code",
   "execution_count": null,
   "id": "fdc4fbb4-243b-4156-a907-d78c6893a7eb",
   "metadata": {},
   "outputs": [],
   "source": [
    "# try to raise a UnicodeDecodeError\n"
   ]
  },
  {
   "cell_type": "markdown",
   "id": "9d3b69dd-a113-40f0-8aba-1e129d5bdbb7",
   "metadata": {},
   "source": [
    "Turns out, this also give us an error! To follow up on this, we can pass in the following arguments to the UnicodeDecodeError:\n",
    "- the encoding\n",
    "- the problem character\n",
    "- the start position\n",
    "- the end position\n",
    "- the reason"
   ]
  },
  {
   "cell_type": "code",
   "execution_count": null,
   "id": "6fb45829-3998-407a-af43-045471614b7b",
   "metadata": {},
   "outputs": [],
   "source": [
    "# raise a UnicodeDecodeError with these arguments\n"
   ]
  }
 ],
 "metadata": {
  "kernelspec": {
   "display_name": "cs122",
   "language": "python",
   "name": "cs122"
  },
  "language_info": {
   "codemirror_mode": {
    "name": "ipython",
    "version": 3
   },
   "file_extension": ".py",
   "mimetype": "text/x-python",
   "name": "python",
   "nbconvert_exporter": "python",
   "pygments_lexer": "ipython3",
   "version": "3.10.12"
  }
 },
 "nbformat": 4,
 "nbformat_minor": 5
}
