{
 "cells": [
  {
   "cell_type": "markdown",
   "id": "86545698-b68a-45c8-ad91-5ff49e2ecc11",
   "metadata": {},
   "source": [
    "# Data from the Web with APIs\n",
    "In this lesson, we will explore how to obtain data using APIs with Python.\n",
    "\n",
    "By the end of this lesson, you should be able to:\n",
    "1. Access the Google API\n",
    "2. Access metadata from a YouTube video\n",
    "3. Obtain information about messages in your Gmail inbox\n",
    "\n",
    "## New conda packages\n",
    "```\n",
    "conda install google-api-python-client\n",
    "conda install google-auth-oauthlib\n",
    "conda install google-auth-httplib2\n",
    "```\n",
    "After these packages are installed, import them below:"
   ]
  },
  {
   "cell_type": "code",
   "execution_count": null,
   "id": "f901493b-0939-4910-bfa7-2637984c3960",
   "metadata": {},
   "outputs": [],
   "source": [
    "import google_auth_oauthlib.flow\n",
    "import googleapiclient.discovery\n",
    "import googleapiclient.errors"
   ]
  },
  {
   "cell_type": "markdown",
   "id": "10dbcb34-ec1e-400c-aa9c-1ee3996141e4",
   "metadata": {},
   "source": [
    "## Google APIs\n",
    "Google has a many different APIs that can be used to access data in applications hosted by Google. To begin, we will create a **New Project** in the [Google Cloud Console](https://console.cloud.google.com/).\n",
    "\n",
    "After creating a project, we will navigate to the **Credentials** tab under **APIs and Services**. In this tab, choose **+ Credentials** and create an **API Key**. \n",
    "\n",
    "After you have created your key, enter it below:"
   ]
  },
  {
   "cell_type": "code",
   "execution_count": null,
   "id": "ae39624a-16f4-4d14-a14c-1ecf9967edef",
   "metadata": {},
   "outputs": [],
   "source": [
    "from getpass import getpass\n",
    "API_KEY = getpass('Enter your API Key:')"
   ]
  },
  {
   "cell_type": "markdown",
   "id": "87219ed7-0cdb-4c6c-975f-818560923d56",
   "metadata": {},
   "source": [
    "Now that the API Key is generated and stored here, navigate to the API **Library** and scroll down to the **Youtube Data API v3**. Click on this API and choose to **Enable** the API. With this API enabled, we can now access data from YouTube using Google Tools."
   ]
  },
  {
   "cell_type": "markdown",
   "id": "7fd85e5a-4eae-4ab6-9d65-d22a253d2eeb",
   "metadata": {},
   "source": [
    "## Part 1: YouTube\n",
    "The Youtube API has a variety of function for accessing information about YouTube including videos, channels, and users as well as functionality to post information to YouTube. For reference, all of the available API functions are documented on the following page: https://developers.google.com/youtube/v3/docs/?apix=true\n",
    "\n",
    "We will explore a few of these functions in this notebook.\n",
    "\n",
    "### Accessing data about a single video\n",
    "Files on YouTube are public which means we can access them via the API without providing any credentials. For example, we might want to know what the statistics are for the Khan Academy video that serves as an introduction to Python: https://www.youtube.com/watch?v=husPzLE6sZc&list=PLJR1V_NHIKrCkswPMULzQFHpYa57ZFGbs\n",
    "\n",
    "First, we define the API service and version for the Youtube API:"
   ]
  },
  {
   "cell_type": "code",
   "execution_count": null,
   "id": "0a05b418-872f-49b0-be34-4a9cd0cf3ef5",
   "metadata": {},
   "outputs": [],
   "source": [
    "# define the api service and version\n"
   ]
  },
  {
   "cell_type": "markdown",
   "id": "46cf4d3d-8062-4553-9148-2ac800dc3223",
   "metadata": {},
   "source": [
    "Next, we make a request to the API for information about the video:"
   ]
  },
  {
   "cell_type": "code",
   "execution_count": null,
   "id": "0c6c3171-86d3-4952-8851-1aee6d1fc42b",
   "metadata": {},
   "outputs": [],
   "source": [
    "# access the youtube api client\n",
    "\n",
    "\n",
    "# make a request to the api for information about the video above\n",
    "# note: the id of the video is the part after v= ....\n",
    "\n",
    "\n",
    "# execute the query in the request\n"
   ]
  },
  {
   "cell_type": "markdown",
   "id": "77c25278-3498-4b53-ac05-de9b00d9af91",
   "metadata": {},
   "source": [
    "The reponse from the query will return a series of nested dictionaries with several entries for the metadata of the video:"
   ]
  },
  {
   "cell_type": "code",
   "execution_count": null,
   "id": "17e56d59-3b85-43e4-b249-c73aa2f7c7bc",
   "metadata": {},
   "outputs": [],
   "source": [
    "# check the keys of the dictionary\n",
    "\n",
    "\n",
    "# the items list provides the most pertinent metadata components\n",
    "\n",
    "\n",
    "# for example,\n",
    "# the title of the video is in the 'snippet' dictionary\n",
    "\n",
    "\n",
    "# the number of views is in the 'statistics' dictionary\n"
   ]
  },
  {
   "cell_type": "markdown",
   "id": "e44bf1a1-cc0d-4ea0-ae6f-20add91bd6d5",
   "metadata": {},
   "source": [
    "#### &#x1F914; Mini-Exercise\n",
    "Goal: Find the number of likes and the channel title for the video linked above."
   ]
  },
  {
   "cell_type": "code",
   "execution_count": null,
   "id": "610785c5-e750-45b3-a82a-18924e101c97",
   "metadata": {},
   "outputs": [],
   "source": [
    "# the number of likes is in the 'statistics' dictionary\n"
   ]
  },
  {
   "cell_type": "markdown",
   "id": "82957cd8-8a7b-40d9-861b-9c1373140f3a",
   "metadata": {},
   "source": [
    "### Accessing data about a Channel\n",
    "As you are likely familiar, a channel typically has a library of different videos. We can also access information about the channel using the API. To search a channel, we need the `channelId`. We can obtain this using a request on an individual video. Equivalently, we can search the html page source on the page itself (search for `channelID` in the page source)."
   ]
  },
  {
   "cell_type": "code",
   "execution_count": null,
   "id": "9b1d001c-24e5-465f-8287-0faf8fa4b89c",
   "metadata": {},
   "outputs": [],
   "source": [
    "# define the channelID\n"
   ]
  },
  {
   "cell_type": "code",
   "execution_count": null,
   "id": "a1bd9ea9-e76d-4b9b-986a-dc2ba1ed4599",
   "metadata": {},
   "outputs": [],
   "source": [
    "# make a request to the api for information about the channel above\n",
    "\n",
    "\n",
    "# execute the query in the request\n"
   ]
  },
  {
   "cell_type": "markdown",
   "id": "c6768182-b37a-4396-b520-842647185f36",
   "metadata": {},
   "source": [
    "Similar to above, the response yields a nested set of dictionaries with metadata about the channel. "
   ]
  },
  {
   "cell_type": "code",
   "execution_count": null,
   "id": "6d7d3c3e-e469-4137-a034-f87e7b059c1e",
   "metadata": {},
   "outputs": [],
   "source": [
    "# check the keys of the dictionary\n",
    "\n",
    "\n",
    "# for example,\n",
    "# the description of the channel is in the 'snippet' dictionary\n",
    "\n",
    "\n",
    "# the number of views is in the 'statistics' dictionary\n"
   ]
  },
  {
   "cell_type": "markdown",
   "id": "3d61a33a-2cc0-4707-8b3b-b04a4c8405aa",
   "metadata": {},
   "source": [
    "#### &#x1F914; Mini-Exercise\n",
    "Goal: Get the number of subscribers for the Khan Academy Youtube Channel."
   ]
  },
  {
   "cell_type": "code",
   "execution_count": null,
   "id": "698d8752-5e79-42ca-8279-7500776cdce7",
   "metadata": {},
   "outputs": [],
   "source": [
    "# the number of subscribers is in the 'statistics' dictionary\n"
   ]
  },
  {
   "cell_type": "markdown",
   "id": "23bc917a-8bed-48b7-8288-ed8c6da64f29",
   "metadata": {},
   "source": [
    "### The Cost of API inquiries\n",
    "Each time your make a request to the Google API, it comes with a \"cost\". The list methods for videos and channels methods both come with a \"cost\" of 1 unit. By contrast, if you'd like to do a generic search of all of YouTube, it comes with a cost of 100 units. Each day, the Youtube API allows you 10000 units for free. If you'd like to do more searches than that, you can pay money to Google for more possibilities. This pay-for-access programmatic model is the underlying business model for almost all APIs on popular sites."
   ]
  },
  {
   "cell_type": "markdown",
   "id": "0a18e087-9f16-49ac-b2d0-beda2eb0cf82",
   "metadata": {},
   "source": [
    "## Part 2: Obtaining info from Gmail\n",
    "Our Gmail accounts, by constrast with public Youtube videos, require our credentials to access. To obtain information from Gmail, we first need to obtain our OAuth 2.0 Client IDs. \n",
    "\n",
    "### Setting up OAuth 2.0 Client IDs\n",
    "\n",
    "Navigate to the **APIs and Services** dropdown and select the **Libraries** tab (again). Now, select **Gmail** API and choose to Enable it. The top bar will indicate that you may need to authenticate your credentials. Click on **Create Credentials** and use the following options:\n",
    "- select the option for **User Data** in Credential Type\n",
    "- name your project something like `cs122` and choose your email address in the OAuth Screen\n",
    "- don't add any scopes in the Scopes screen\n",
    "- choose Desktop App in the OAuth client ID screen\n",
    "\n",
    "When you have completed the steps above, you will be able to download a secrey key for your credentials. Download the JSON file for your credentials and store it in your current directory (where this notebook is located). You may choose to rename your key as just `client_secret.json`. Now, we are ready to access Gmail with our credentials!\n",
    "\n",
    "Begin by defining the api information, similar to what was done for YouTube above, along with information about the client file and the scopes:"
   ]
  },
  {
   "cell_type": "code",
   "execution_count": null,
   "id": "5547bf66-7af5-47aa-a584-d33e99c58c5d",
   "metadata": {},
   "outputs": [],
   "source": [
    "# define the api service and version\n",
    "\n",
    "\n",
    "# define the client file and scopes\n"
   ]
  },
  {
   "cell_type": "markdown",
   "id": "b5dbcf4a-d812-4d11-8d60-7640a3737893",
   "metadata": {},
   "source": [
    "The code block below will set up a service - the first time you run it, it will ask you to trust the application."
   ]
  },
  {
   "cell_type": "code",
   "execution_count": null,
   "id": "1026207d-7140-46b1-a2ee-b2892b8d00b4",
   "metadata": {},
   "outputs": [],
   "source": [
    "# authenticate the credentials\n"
   ]
  },
  {
   "cell_type": "code",
   "execution_count": null,
   "id": "d3c1a30d-c8b7-4bf2-b6ea-38fa3db6820d",
   "metadata": {},
   "outputs": [],
   "source": [
    "# define the API service\n"
   ]
  },
  {
   "cell_type": "markdown",
   "id": "440e9bce-7d99-4ebc-a03c-4832c0014f8c",
   "metadata": {},
   "source": [
    "### Reading Gmail labels from your account\n",
    "\n",
    "Now that the service is constructed with your credentials, you can now access the information in your inbox. Similar to the YouTube API, the Gmail API has lots of good documentation on the underlying method here: https://developers.google.com/gmail/api/reference/rest\n",
    "\n",
    "For example, what if we would like to get the \"labels\" on the messages our inbox? We can get these using the Gmail API methods:"
   ]
  },
  {
   "cell_type": "code",
   "execution_count": null,
   "id": "e8ff606d-64b7-4543-9d95-a79efc10cf1b",
   "metadata": {},
   "outputs": [],
   "source": [
    "# access the labels using the users() and labels() methods\n",
    "\n",
    "\n",
    "# store the labels in a list\n"
   ]
  },
  {
   "cell_type": "markdown",
   "id": "469f2911-d0bb-43b7-bc66-f39f50da4a4a",
   "metadata": {},
   "source": [
    "Now that we have obtained our labels, we can access them here:"
   ]
  },
  {
   "cell_type": "code",
   "execution_count": null,
   "id": "b77ceb6d-9273-40fd-b182-cc415c0ce3f2",
   "metadata": {},
   "outputs": [],
   "source": [
    "# print the first 10 labels of your inbox\n"
   ]
  },
  {
   "cell_type": "markdown",
   "id": "46fe1f7d-2b59-46d1-8423-859e7fe908a0",
   "metadata": {},
   "source": [
    "This is a simple example, but you now have full control over your email with the Gmail API. For example, what if you wanted to access messages from a particular user?\n",
    "\n",
    "### Reading messages from your inbox\n",
    "From our inbox, we could search for messages that come from a common source. For example, at SJSU we receive many messages from the email `universitycomm@sjsu.edu`. Let's grab the first \"pages\" of these messages:"
   ]
  },
  {
   "cell_type": "code",
   "execution_count": null,
   "id": "4abbcba4-ab97-401b-91b5-f8d32adf2642",
   "metadata": {},
   "outputs": [],
   "source": [
    "# search for a list of messages from universitycomm@sjsu.edu\n",
    "\n",
    "\n",
    "# store the response into a messages response object\n"
   ]
  },
  {
   "cell_type": "markdown",
   "id": "0f276bfb-67db-4de4-ae88-ca4cd5d1868a",
   "metadata": {},
   "source": [
    "Now, we have a subset of our messages. Next, we can read in the information about the most recent message:"
   ]
  },
  {
   "cell_type": "code",
   "execution_count": null,
   "id": "a5c16601-dda4-467c-9c97-aba5cba23407",
   "metadata": {},
   "outputs": [],
   "source": [
    "# get the first message in the list\n",
    "\n",
    "\n",
    "# get the details of the message\n",
    "\n",
    "# print the body (or \"snippet\") of the message\n"
   ]
  },
  {
   "cell_type": "markdown",
   "id": "6eb20fa8-61fa-4aa6-a887-4e4b76e692bf",
   "metadata": {},
   "source": [
    "#### &#x1F914; Mini-Exercise\n",
    "Goal: Test this on your own - what is one email address that sends your consistent emails. Does the message you print out match the one you can find in your inbox?"
   ]
  },
  {
   "cell_type": "code",
   "execution_count": null,
   "id": "f691a256-02c4-4596-9962-a21891f97ef0",
   "metadata": {},
   "outputs": [],
   "source": [
    "# enter your test here\n"
   ]
  },
  {
   "cell_type": "markdown",
   "id": "9cb6d574-9037-461f-84ab-154a50b8a239",
   "metadata": {},
   "source": [
    "### Modifying messages in your inbox\n",
    "As mentioned above, you now have full control of your email (from Python!). You could read, draft, and send messages. For now, I will demonstrate how to change a message from \"Unread\" to \"Read\" and vice versa.\n",
    "\n",
    "#### Changing a Message to Unread"
   ]
  },
  {
   "cell_type": "code",
   "execution_count": null,
   "id": "a3c2feb6-3c16-4f26-8e6d-ad45f25cb6b2",
   "metadata": {},
   "outputs": [],
   "source": [
    "# add an unread label to the message\n"
   ]
  },
  {
   "cell_type": "code",
   "execution_count": null,
   "id": "63c4cb46-db87-402f-ae45-3b26634a1a9d",
   "metadata": {},
   "outputs": [],
   "source": [
    "# change the message back to read\n"
   ]
  },
  {
   "cell_type": "markdown",
   "id": "9e286048-17b3-4067-a4a8-1b604a5a83e0",
   "metadata": {},
   "source": [
    "## A Gmail API Pipedream\n",
    "Feeling inspired? Consider this pipedream project I have to save myself time answering emails:"
   ]
  },
  {
   "cell_type": "markdown",
   "id": "27472ee3-b7f8-404a-935f-6972d0d53d8d",
   "metadata": {},
   "source": [
    "Create a Python program to do the following:\n",
    "1. Use the Google API to check for new emails.\n",
    "2. Download the contents of the emails to my local computer\n",
    "3. Use ChatGPT via the ChatGPT API to automatically draft a response to the emails in my inbox.\n",
    "4. Use the Google API to stage my ChatGPT-drafted emails in my Drafts folder\n",
    "5. When I have time for emails, I review the drafts before hitting send"
   ]
  }
 ],
 "metadata": {
  "kernelspec": {
   "display_name": "cs122test3",
   "language": "python",
   "name": "cs122test3"
  },
  "language_info": {
   "codemirror_mode": {
    "name": "ipython",
    "version": 3
   },
   "file_extension": ".py",
   "mimetype": "text/x-python",
   "name": "python",
   "nbconvert_exporter": "python",
   "pygments_lexer": "ipython3",
   "version": "3.10.12"
  }
 },
 "nbformat": 4,
 "nbformat_minor": 5
}
