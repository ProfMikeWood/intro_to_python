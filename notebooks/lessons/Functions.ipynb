{
 "cells": [
  {
   "cell_type": "markdown",
   "id": "49e61e1c",
   "metadata": {},
   "source": [
    "# Functions"
   ]
  },
  {
   "cell_type": "markdown",
   "id": "0c3a7daa-0a0a-481c-974f-6acd970606db",
   "metadata": {},
   "source": [
    "Name:\n",
    "\n",
    "Date:\n",
    "\n",
    "Learning Objectives:\n",
    "By the end of this lesson, you should be able to:\n",
    "1. Define a Python function with one or more arguments that returns one or more objects.\n",
    "2. Differentiate between local and global variables, and when they can be modified\n",
    "3. Implement the lambda keyword to create short in-line functions"
   ]
  },
  {
   "cell_type": "markdown",
   "id": "0d4b0f71",
   "metadata": {},
   "source": [
    "# Part 1: Defining Functions"
   ]
  },
  {
   "cell_type": "markdown",
   "id": "acf1e5a8",
   "metadata": {},
   "source": [
    "Functions in Python start with the keyword `def` and follow a similar syntax to other code blocks we have seen in Python so far - they use the typical colon and indentation formatting."
   ]
  },
  {
   "cell_type": "code",
   "execution_count": null,
   "id": "58d5c54f",
   "metadata": {},
   "outputs": [],
   "source": [
    "# write a simple function to describe the weather\n"
   ]
  },
  {
   "cell_type": "markdown",
   "id": "7a31ef7e-2b8c-4a88-8f81-f94d47158bb2",
   "metadata": {},
   "source": [
    "From the above code block, we can observe 3 things:\n",
    "- Functions do not need to be defined with input arguments\n",
    "- Functions do not need to have to return objects\n",
    "- Functions are not run when they are defined - they must be called to be run"
   ]
  },
  {
   "cell_type": "code",
   "execution_count": null,
   "id": "328de8a3-4bb9-4da2-9fdb-64f4ec8489dc",
   "metadata": {},
   "outputs": [],
   "source": [
    "# call the weather report function\n"
   ]
  },
  {
   "cell_type": "markdown",
   "id": "bf25d05e-ba6c-44c3-8301-e6ab30303c1f",
   "metadata": {},
   "source": [
    "There is a lot of flexibility in how function in Python can be defined. For example, we may choose to define input arguments and implement code blocks within our function:"
   ]
  },
  {
   "cell_type": "code",
   "execution_count": null,
   "id": "5723662f-10c2-4913-becf-70ba70ed34a8",
   "metadata": {},
   "outputs": [],
   "source": [
    "# update the weather report function to include an input argument for temperature\n",
    "\n",
    "\n",
    "# call the function to view its output\n",
    "\n",
    "\n",
    "# call the function again by explicitly calling the input parameter\n"
   ]
  },
  {
   "cell_type": "markdown",
   "id": "59f122fc-da09-426a-8153-5d5c8f831c99",
   "metadata": {},
   "source": [
    "We can also define optional arguments that are given a default value. These default values may be changed by the function user, if desired."
   ]
  },
  {
   "cell_type": "code",
   "execution_count": null,
   "id": "0287736e-c410-40ed-8a59-c4202dacce7c",
   "metadata": {},
   "outputs": [],
   "source": [
    "# update the weather report function to include an optional input argument\n",
    "# to convert the temperature to celsius\n",
    "\n",
    "\n",
    "# call the function to view its output\n",
    "\n",
    "\n",
    "# call the function again, this time converting to celsius\n",
    "\n"
   ]
  },
  {
   "cell_type": "markdown",
   "id": "5abcea6d-e87d-4f99-980d-f95a5884899d",
   "metadata": {},
   "source": [
    "All functions in Python have an output object. If its not defined, then the value is None. For example: "
   ]
  },
  {
   "cell_type": "code",
   "execution_count": null,
   "id": "e0b481bb-ec7b-4e92-b492-7bbaa8fd9a0e",
   "metadata": {},
   "outputs": [],
   "source": [
    "# assign the output of the weather report function to a variable\n",
    "\n",
    "\n",
    "# print the variable\n"
   ]
  },
  {
   "cell_type": "markdown",
   "id": "e7b69599-a87d-42a2-bad5-96156832bb4d",
   "metadata": {},
   "source": [
    "Often, we would like our functions to return a given statement or other output rather than just printing something to the screen. In this case, we can use the `return` keyword."
   ]
  },
  {
   "cell_type": "code",
   "execution_count": null,
   "id": "6a2b6022-4b1c-45ff-a8f4-8b4720a1ca2a",
   "metadata": {},
   "outputs": [],
   "source": [
    "# update the weather report function to output the statement\n",
    "# instead of printing it\n",
    "\n",
    "\n",
    "# store the output of weather_report into a variable called report\n",
    "\n"
   ]
  },
  {
   "cell_type": "markdown",
   "id": "d540ddeb-6fa9-47b0-a35f-b72da7b7fa89",
   "metadata": {},
   "source": [
    "When defined with an output, we can print the statement when desired:"
   ]
  },
  {
   "cell_type": "code",
   "execution_count": null,
   "id": "571d425e-1e7d-424b-8b6c-8f203f79d028",
   "metadata": {},
   "outputs": [],
   "source": [
    "# now print the report variable\n"
   ]
  },
  {
   "cell_type": "markdown",
   "id": "a0e14d68",
   "metadata": {},
   "source": [
    "### &#x1F914; Mini-Exercise\n",
    "Goal: Define a function called `convert_miles` to convert miles to kilometers. Provide an optional keyword that allows the user to convert to meters instead of kilometers. There are 6.2 miles in 10 kilometers and 1000 meters in 1 kilometer."
   ]
  },
  {
   "cell_type": "code",
   "execution_count": null,
   "id": "1e4d0d96-784a-4b66-89c0-fb2b76178dc5",
   "metadata": {},
   "outputs": [],
   "source": [
    "# define the convert_miles function\n",
    "\n",
    "\n",
    "# test your function with 3.1 miles (should return 5)\n",
    "\n",
    "\n",
    "# test your function with 9.3 miles and the optional parameter to return meters (should return 15000)\n"
   ]
  },
  {
   "cell_type": "markdown",
   "id": "74ddc66b-a56d-4a0e-bff5-1ead5c999e36",
   "metadata": {},
   "source": [
    "### Functions with an indefinite number of arguments\n",
    "It is often handy to define functions that have an open ended number of arguments. There are two primary ways that this type of feature can be implemented.\n",
    "\n",
    "First, a function can allow for an open number of arguments to be read in as a tuple. To store the arguments as a tuple, use the single astericks syntax:"
   ]
  },
  {
   "cell_type": "code",
   "execution_count": null,
   "id": "3c092721-4773-4340-8db8-54a35cb00a8e",
   "metadata": {},
   "outputs": [],
   "source": [
    "# define a function that calculates the average of an indefinite set of numbers\n",
    "\n",
    "\n",
    "# test your function with a set of numbers\n"
   ]
  },
  {
   "cell_type": "markdown",
   "id": "21837cd5-6f34-41d3-bdb7-4a0807e35bd1",
   "metadata": {},
   "source": [
    "Alternatively, a function can be used to take in a set of arguments and store them in a dictionary. The syntax is similar except that two astericks symbols are used:"
   ]
  },
  {
   "cell_type": "code",
   "execution_count": null,
   "id": "0240e349-5f01-469b-a277-1f838f95081d",
   "metadata": {},
   "outputs": [],
   "source": [
    "# define a function that will calulate the molecular mass of one mole of a given molecule\n",
    "# the function should take in a dictionary of the number of each atom in the molecule\n",
    "# for example, for molecule propane (C3H8), the function would be called as\n",
    "# molecule_mass(C=3, H=8) which would be read into the dictionary {'C':3, 'H':8}\n",
    "\n",
    "\n",
    "# calculate the mass of carbon dioxide (CO2)\n"
   ]
  },
  {
   "cell_type": "markdown",
   "id": "b279a61c-4336-44b4-80a9-b28af99e8738",
   "metadata": {},
   "source": [
    "# Part 2: Local vs Global Variables\n",
    "Local variables are those which are defined inside of a function while global variables are those stored outside of a function. But when does the global variable space know about the local variables, and vice versa? Even more importantly, when can a function modify a global variable?"
   ]
  },
  {
   "cell_type": "markdown",
   "id": "2bc8d6e1-0322-4ad7-a14e-a627fa27c992",
   "metadata": {},
   "source": [
    "### Local Variables"
   ]
  },
  {
   "cell_type": "code",
   "execution_count": null,
   "id": "e9fec74b-0544-44aa-9041-4269e64d845f",
   "metadata": {},
   "outputs": [],
   "source": [
    "# write a function to calculate the area of a circle given its radius\n",
    "\n",
    "\n",
    "# print the circle area\n",
    "\n",
    "\n",
    "# print the variable pi - what happens?\n"
   ]
  },
  {
   "cell_type": "markdown",
   "id": "8b759bcf-4e62-45c9-8c83-f848d86ceda8",
   "metadata": {},
   "source": [
    "A local variable can be made accessible in the global namespace using the keyword `global`. Try this in the code above."
   ]
  },
  {
   "cell_type": "markdown",
   "id": "38a4ba40-98ab-4dc4-820e-f5181bd0e2b0",
   "metadata": {},
   "source": [
    "### Global Variables\n",
    "The code on the interior of functions knows about global variables.\n"
   ]
  },
  {
   "cell_type": "code",
   "execution_count": null,
   "id": "6920ff0e-2ada-4c5c-9e8b-2b5fd15df8c7",
   "metadata": {},
   "outputs": [],
   "source": [
    "# define the number pi with 4 decimal places\n",
    "\n",
    "\n",
    "# write a function to calculate the area of a circle given its radius\n",
    "\n",
    "\n",
    "# print the circle area\n",
    "\n",
    "\n",
    "# print the variable pi - what happens?\n"
   ]
  },
  {
   "cell_type": "markdown",
   "id": "866ab8ac-174e-47d5-99c1-d856d83b5a7c",
   "metadata": {},
   "source": [
    "However, a function cannot modify a global variable - try to change the value of pi inside the function above. What happens?"
   ]
  },
  {
   "cell_type": "code",
   "execution_count": null,
   "id": "b68b4de8-4ffe-451a-95eb-7323961c31a9",
   "metadata": {},
   "outputs": [],
   "source": [
    "# define a string for department and a list of strings for classes\n",
    "\n",
    "\n",
    "# print the deparment and classes\n",
    "\n",
    "\n",
    "# define a function to change the department and classes\n",
    "\n",
    "\n",
    "# call the function\n",
    "\n",
    "\n",
    "# print the deparment and classes again - how do they differ?\n"
   ]
  },
  {
   "cell_type": "markdown",
   "id": "946fbbb0-75bf-4910-a2c1-ad6e6b3e6da3",
   "metadata": {},
   "source": [
    "&#x2757; Caution! Be careful about the naming of variables inside and outside your functions. If you do not intend for your function to change your global variables, be sure to make copies or otherwise ensure you are not operating on the global object."
   ]
  },
  {
   "cell_type": "markdown",
   "id": "eb8b3c32-1590-4a7f-a2c7-ec00cad661a5",
   "metadata": {},
   "source": [
    "## Part 3: Doc Strings\n",
    "\n",
    "It is good practice to document your functions with \"doc strings\". Doc strings are encapsulated with triple quotes at the top of the function body. When formatted correctly the `help` method can print the description. In addition, the doc strings can be used to automatically format a ReadTheDocs page when code is published online."
   ]
  },
  {
   "cell_type": "code",
   "execution_count": null,
   "id": "26a14078-5dbc-466f-96f1-93f00b980064",
   "metadata": {},
   "outputs": [],
   "source": [
    "# write a function to calculate the area of a circle given its radius\n",
    "# add a doc string note to the function\n"
   ]
  },
  {
   "cell_type": "code",
   "execution_count": null,
   "id": "f7702991-fa55-4e44-ad9a-8fe652c38704",
   "metadata": {},
   "outputs": [],
   "source": [
    "# call the help function on your function above\n"
   ]
  },
  {
   "cell_type": "markdown",
   "id": "6fe9b3e1-a082-41b1-a5a5-19e0bb5db33b",
   "metadata": {},
   "source": [
    "## Part 4: Lambda Functions\n",
    "The main way to define a function in Python uses the `def` keyword as shown above. However, if the function is a 1-line function designed to be used on the fly, it can be declared as a `lambda` function."
   ]
  },
  {
   "cell_type": "code",
   "execution_count": null,
   "id": "faa195a9-4edf-4272-80b1-4b6c8b8cc658",
   "metadata": {},
   "outputs": [],
   "source": [
    "# define a function called sqrt that returns the square root of x\n",
    "\n",
    "\n",
    "# use the function to print the square root of 9\n"
   ]
  },
  {
   "cell_type": "code",
   "execution_count": null,
   "id": "6d6f5afa-b07b-41e7-bbb3-2d64310721cb",
   "metadata": {},
   "outputs": [],
   "source": [
    "# define a function called sqrt_lambda that defines the square root function\n",
    "# using the lambda notation\n",
    "\n",
    "\n",
    "# use the function to print the square root of 9\n"
   ]
  },
  {
   "cell_type": "markdown",
   "id": "37d922fb-371b-4a9e-a6b4-06a73ee24c16",
   "metadata": {},
   "source": [
    "Lambda functions are get their name from \"Lambda Calculus\" - a system of mathematical logic based on function abstraction."
   ]
  },
  {
   "cell_type": "markdown",
   "id": "2d048f6f-73c8-4c3a-a757-59802878bbff",
   "metadata": {},
   "source": [
    "### `lambda` Example: Indices of a sorted list\n",
    "\n",
    "One way that `lambda` functions are useful is when providing a sorting key. First, explore the `sorted` function with an intuitive example"
   ]
  },
  {
   "cell_type": "code",
   "execution_count": null,
   "id": "a82103c8-c4e5-412d-b5e4-ab96dc5720ab",
   "metadata": {},
   "outputs": [],
   "source": [
    "# define a list with 5 numbers\n",
    "\n",
    "\n",
    "# sort the list with the values given\n",
    "\n",
    "\n",
    "# define a function to calculate the absolute value\n",
    "\n",
    "\n",
    "# sort the list passing the key for the absolute value\n"
   ]
  },
  {
   "cell_type": "markdown",
   "id": "8a8760ff-805f-4df0-9e4c-ef5a62cac7d8",
   "metadata": {},
   "source": [
    "A function can also be used to provide the indices of a sorted list."
   ]
  },
  {
   "cell_type": "code",
   "execution_count": null,
   "id": "8c583126-d185-4954-a21e-6fe15466b492",
   "metadata": {},
   "outputs": [],
   "source": [
    "# define a function to return the \n",
    "\n",
    "\n",
    "# define a list of the indices\n",
    "\n",
    "\n",
    "# print the indices of a sorted list\n",
    "\n",
    "\n",
    "# print the list as a reminder\n"
   ]
  },
  {
   "cell_type": "markdown",
   "id": "f8e9f456-6961-407d-9a3e-105ee31fb09f",
   "metadata": {},
   "source": [
    "Alternatively, this function can be written with a `lambda` function as a one-liner as follows:"
   ]
  },
  {
   "cell_type": "code",
   "execution_count": null,
   "id": "5668fc3b-1021-43e9-a2a5-f4cd9696ae7f",
   "metadata": {},
   "outputs": [],
   "source": [
    "# calculate the indices with the lambda function\n"
   ]
  },
  {
   "cell_type": "markdown",
   "id": "b3d24d21-dd28-4ccd-92a0-2947822096e5",
   "metadata": {},
   "source": [
    "### &#x1F914; Mini-Exercise\n",
    "Goal: Use a `lambda` function inside Python's `map` function to quickly calculate the **sine** of a list of numbers.\n",
    "\n",
    "Python has a built-in function called `map` to quickly apply a function to a list of numbers. For example, consider the following code to calculate the square of a list of numbers:"
   ]
  },
  {
   "cell_type": "code",
   "execution_count": null,
   "id": "3ca8ec47-670c-48d8-a08a-ca617ca20193",
   "metadata": {},
   "outputs": [],
   "source": [
    "# define a squared function\n",
    "def squared(x):\n",
    "    return x**2\n",
    "\n",
    "# define a list of numbers\n",
    "numbers = [1,2,3]\n",
    "\n",
    "# calculate the square of the numbers\n",
    "print(list(map(squared, numbers)))"
   ]
  },
  {
   "cell_type": "markdown",
   "id": "4efbffca-aa2e-43b0-860a-994225aa423c",
   "metadata": {},
   "source": [
    "In the following code block, calculate the `sin` of the numbers -&pi;/2, 0, and &pi;/2. The sine of a number can be estimated with the first four terms of its Taylor expansion as:\n",
    "\n",
    "$$ sin(x) \\approx x - \\frac{x^3}{6} + \\frac{x^5}{120} - \\frac{x^7}{5040} $$\n",
    "\n",
    "You can estimate &pi; as 3.1415."
   ]
  },
  {
   "cell_type": "code",
   "execution_count": null,
   "id": "7beab30a-17f3-44c9-ad9f-00bfe63737a4",
   "metadata": {},
   "outputs": [],
   "source": [
    "# create the list of values\n",
    "\n",
    "\n",
    "# calculate the sin of the values using a lambda function as described above\n"
   ]
  }
 ],
 "metadata": {
  "kernelspec": {
   "display_name": "teaching",
   "language": "python",
   "name": "teaching"
  },
  "language_info": {
   "codemirror_mode": {
    "name": "ipython",
    "version": 3
   },
   "file_extension": ".py",
   "mimetype": "text/x-python",
   "name": "python",
   "nbconvert_exporter": "python",
   "pygments_lexer": "ipython3",
   "version": "3.11.3"
  }
 },
 "nbformat": 4,
 "nbformat_minor": 5
}
