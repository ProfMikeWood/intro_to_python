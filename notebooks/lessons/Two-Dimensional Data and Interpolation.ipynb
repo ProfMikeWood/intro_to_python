{
 "cells": [
  {
   "cell_type": "markdown",
   "id": "49e61e1c",
   "metadata": {},
   "source": [
    "# 2D Data and Interpolation"
   ]
  },
  {
   "cell_type": "markdown",
   "id": "0c3a7daa-0a0a-481c-974f-6acd970606db",
   "metadata": {},
   "source": [
    "Name:\n",
    "\n",
    "Date:\n",
    "\n",
    "Learning Objectives:\n",
    "By the end of this lesson, you should be able to:\n",
    "1. Visualize 2D data on a graph\n",
    "2. Interpolate values from 2D data fields"
   ]
  },
  {
   "cell_type": "markdown",
   "id": "059d3e86-c87d-411e-bd7e-63f26b727795",
   "metadata": {},
   "source": [
    "#### Import the libraries for this notebook"
   ]
  },
  {
   "cell_type": "code",
   "execution_count": null,
   "id": "cf1fd9a0-0e7b-48c2-af2f-4c76fc006348",
   "metadata": {},
   "outputs": [],
   "source": [
    "# import the numpy, matplotlib, netCDF4, and scipy.interpolate libraries\n"
   ]
  },
  {
   "cell_type": "markdown",
   "id": "0d4b0f71",
   "metadata": {},
   "source": [
    "## Part 1: Reading and plotting 2D data"
   ]
  },
  {
   "cell_type": "markdown",
   "id": "acf1e5a8",
   "metadata": {},
   "source": [
    "The `netCDF4` library provides us with a convenient way to read in data from netCDF files using the `Dataset` function. In this lesson, we will read in a map of Sea Surface Temperature from [NASA's MUR product](https://podaac.jpl.nasa.gov/MEaSUREs-MUR). "
   ]
  },
  {
   "cell_type": "code",
   "execution_count": null,
   "id": "792f93bd-72e6-43bf-bdb0-47005ba271a7",
   "metadata": {},
   "outputs": [],
   "source": [
    "# define the file name\n",
    "\n",
    "\n",
    "# open the nc file\n",
    "\n",
    "\n",
    "# print the keys of the variables in the dictionary\n",
    "\n",
    "\n",
    "# read in the variables as numpy arrays\n",
    "\n",
    "\n",
    "# remove the time coordinate from the sst variable\n",
    "\n",
    "\n",
    "# close the dataset\n"
   ]
  },
  {
   "cell_type": "markdown",
   "id": "13f37bc3",
   "metadata": {},
   "source": [
    "### Make a plot of the data\n",
    "There are at least 3 options for plotting flat 2D data: `contourf`, `pcolormesh`, and `imshow`. When plotting 2D data, Python provides a variety of colormaps to choose from. See the page [HERE](https://matplotlib.org/stable/users/explain/colors/colormaps.html) for options."
   ]
  },
  {
   "cell_type": "code",
   "execution_count": null,
   "id": "7203835d-827e-4d02-b519-e4712954cf88",
   "metadata": {},
   "outputs": [],
   "source": [
    "# make a new figure object\n",
    "\n",
    "\n",
    "# plot the data using one of the three options\n",
    "\n",
    "\n",
    "# add a colorbar\n",
    "\n",
    "\n",
    "# add labels to the axes\n",
    "\n",
    "\n",
    "# add a label to the colorbar\n",
    "\n",
    "\n",
    "# add gridlines\n",
    "\n",
    "\n",
    "# show the plot\n"
   ]
  },
  {
   "cell_type": "markdown",
   "id": "e4686fbb",
   "metadata": {},
   "source": [
    "## Part 2: Interpolating Data\n",
    "The `scipy` package provides a mechanisms to *interpolate* data from known data points to unknown data points. \n",
    "\n",
    "#### A 1-D example\n",
    "To get a feel for interpolation, let's use a 1D example with a familiar function."
   ]
  },
  {
   "cell_type": "code",
   "execution_count": null,
   "id": "14fed448",
   "metadata": {},
   "outputs": [],
   "source": [
    "# make a simple sine curve over the period 0 to 7 increments of 1\n",
    "\n",
    "\n",
    "# plot the data\n",
    "\n",
    "\n",
    "# question: what are the values at more dense data points?\n",
    "# create an interpolation function using interp1d\n",
    "\n",
    "\n",
    "# define the a more dense independent data set\n",
    "\n",
    "\n",
    "# compute the value of sin on the dense data points\n",
    "\n",
    "\n",
    "# plot the dense data points\n",
    "\n",
    "\n",
    "# add a grid to the plot\n",
    "\n",
    "\n",
    "# show the plot\n"
   ]
  },
  {
   "cell_type": "markdown",
   "id": "03f0e28e-53aa-44ef-9896-d48241413b7e",
   "metadata": {},
   "source": [
    "### Interpolating in 2D\n",
    "Consider the interpolation problem, but in 2D - for example, what if you were going to sail from Iceland south to Antarctica. What sea surface temperatures would you experience along the way?\n",
    "\n",
    "To begin this exploration, create a set of longitudes and latitudes for the journey. Then, add them to them to the plot above to visualize the path:"
   ]
  },
  {
   "cell_type": "code",
   "execution_count": null,
   "id": "4b848844-29e7-43e1-b2c8-5bd2803d7df3",
   "metadata": {},
   "outputs": [],
   "source": [
    "# define the longitude and latitudes you would experience on your journey\n",
    "journey_lat = np.arange(65,-74,-0.01)\n",
    "journey_lon = -23*np.ones_like(journey_lat)"
   ]
  },
  {
   "cell_type": "code",
   "execution_count": null,
   "id": "a86bd70d-4a40-47b7-8202-ff1fe0a5b47e",
   "metadata": {},
   "outputs": [],
   "source": [
    "# replot the map with the sail track\n"
   ]
  },
  {
   "cell_type": "markdown",
   "id": "1e702184-e67b-46c9-af88-afbdd8a2cff9",
   "metadata": {},
   "source": [
    "Next, we will use the `griddata` function for interpolation. Similar to `interp1d`, the `griddata` function takes in the points and values of the given data and returns the estimated values at the requested data locations. In particular, `griddata` takes in the following arguments:\n",
    "\n",
    "- points (an array of points with shape (N,2))\n",
    "- values (an array of points with shape (N,))\n",
    "- destination points (two arrays of points for x and y)\n",
    "- method (optional, default='linear')\n",
    "\n",
    "Hint: to speed up calculations, slice the data every 10 data points"
   ]
  },
  {
   "cell_type": "code",
   "execution_count": null,
   "id": "c8eafb76-5052-4783-8e3d-fe3b1db4c275",
   "metadata": {},
   "outputs": [],
   "source": [
    "# define the points and values for the interpolation array\n",
    "\n",
    "\n",
    "# use the griddata function to interpolate onto the journey values\n"
   ]
  },
  {
   "cell_type": "markdown",
   "id": "9a8fe55e-0a20-457b-8963-1636bf35a82d",
   "metadata": {},
   "source": [
    "Make a plot of the Temperature"
   ]
  },
  {
   "cell_type": "code",
   "execution_count": null,
   "id": "255a299a-093d-4c88-89f3-f11787ac5d88",
   "metadata": {},
   "outputs": [],
   "source": [
    "# make a new figure object\n",
    "\n",
    "\n",
    "# plot the timeseries\n",
    "\n",
    "\n",
    "# add labels to the y axis\n",
    "\n",
    "\n",
    "# add gridlines\n",
    "\n",
    "\n",
    "# show the plot\n"
   ]
  },
  {
   "cell_type": "markdown",
   "id": "2f29bb5f-3c37-4be4-a6c2-1d4c155c4e73",
   "metadata": {},
   "source": [
    "### &#x1F914; Mini-Exercise\n",
    "Goal: Compare temperatures between two different locations.\n",
    "\n",
    "The Galapagos Islands are located near the equator at -0.777259 Latitude and -91.142578 Longitude. On the other hand, South Georgia Island is located in the South Atlantic Ocean at -54.4138 Latitude and -36.5827 Longitude. Using the temperature dataset, compute the different in temperature between the two islands."
   ]
  },
  {
   "cell_type": "code",
   "execution_count": null,
   "id": "e7c9f61c-952e-4d23-96d1-fba315d50eed",
   "metadata": {},
   "outputs": [],
   "source": [
    "# enter your code here\n"
   ]
  }
 ],
 "metadata": {
  "kernelspec": {
   "display_name": "ms274",
   "language": "python",
   "name": "ms274"
  },
  "language_info": {
   "codemirror_mode": {
    "name": "ipython",
    "version": 3
   },
   "file_extension": ".py",
   "mimetype": "text/x-python",
   "name": "python",
   "nbconvert_exporter": "python",
   "pygments_lexer": "ipython3",
   "version": "3.10.12"
  }
 },
 "nbformat": 4,
 "nbformat_minor": 5
}
