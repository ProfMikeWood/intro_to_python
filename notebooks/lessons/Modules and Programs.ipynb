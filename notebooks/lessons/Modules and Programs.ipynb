{
 "cells": [
  {
   "cell_type": "markdown",
   "id": "49e61e1c",
   "metadata": {},
   "source": [
    "# Modules and Programs"
   ]
  },
  {
   "cell_type": "markdown",
   "id": "0c3a7daa-0a0a-481c-974f-6acd970606db",
   "metadata": {},
   "source": [
    "Name:\n",
    "\n",
    "Date:\n",
    "\n",
    "Learning Objectives:\n",
    "By the end of this lesson, you should be able to:\n",
    "1. Import common built-in Python modules\n",
    "2. Write your own module with functions designed for a particular task\n",
    "3. Import custom modules into a Jupyter Notebook"
   ]
  },
  {
   "cell_type": "markdown",
   "id": "0d4b0f71",
   "metadata": {},
   "source": [
    "# Part 1: Common Built-In Python Modules"
   ]
  },
  {
   "cell_type": "markdown",
   "id": "acf1e5a8",
   "metadata": {},
   "source": [
    "Python has many built-in modules that can be utilized in any program - no installation necessary!\n",
    "\n",
    "To import a built-in module, use the the `import` statement at the top of your script (or Jupyter notebook)"
   ]
  },
  {
   "cell_type": "markdown",
   "id": "476a2589-3af4-429d-840e-e38752604ac6",
   "metadata": {},
   "source": [
    "### The `time` module\n",
    "The time module provides the functionality to access your machine's timing. For example, it is often used to keep track of how long a particular piece of code takes to run."
   ]
  },
  {
   "cell_type": "code",
   "execution_count": null,
   "id": "58d5c54f",
   "metadata": {},
   "outputs": [],
   "source": [
    "# import the time module\n",
    "\n",
    "\n",
    "# use the time module to see how long it takes to count the numbers between 1 and N\n",
    "# start be defining N\n",
    "\n",
    "\n",
    "# store the time at the beginning of the function using the time module\n",
    "\n",
    "\n",
    "# run the counting loop\n",
    "\n",
    "    \n",
    "# store the time at the end of the function using the time module\n",
    "\n",
    "\n",
    "# print the elapsed time\n"
   ]
  },
  {
   "cell_type": "markdown",
   "id": "38e1b533-8e2c-478e-8c54-376b53baf333",
   "metadata": {},
   "source": [
    "### The `datetime` module\n",
    "\n",
    "The `datetime` module provides functionality to track calendar dates and differences therein."
   ]
  },
  {
   "cell_type": "code",
   "execution_count": null,
   "id": "949ea389-c917-4559-9bf1-df5cf1e3ac0c",
   "metadata": {},
   "outputs": [],
   "source": [
    "# import the datetime module\n",
    "\n",
    "\n",
    "# determine how long its been since you started your first class at SJSU\n",
    "# define a datimetime object for your first semester\n",
    "\n",
    "\n",
    "# define a datetime object for today\n",
    "\n",
    "\n",
    "# find the time since you started at SJSU\n",
    "\n",
    "\n",
    "# print the number of days\n"
   ]
  },
  {
   "cell_type": "markdown",
   "id": "80e84f24-a292-4dfe-802d-ab8c18afe236",
   "metadata": {},
   "source": [
    "### The `math` and `cmath` modules\n",
    "The `math` module provides functions to calculate standard mathematical functions. For example, the it can be used to calculate exponentials and trignometric functions:"
   ]
  },
  {
   "cell_type": "code",
   "execution_count": null,
   "id": "0ede7951-10be-4ca8-aa4f-c7b4ba2838cb",
   "metadata": {},
   "outputs": [],
   "source": [
    "# import the math module\n",
    "\n",
    "\n",
    "# calculate the sine of pi/4\n",
    "\n",
    "\n",
    "# calculate the exponential of pi/4\n",
    "\n",
    "\n",
    "# calculate the natural logarithm of 3\n"
   ]
  },
  {
   "cell_type": "markdown",
   "id": "47a6eccd-9f2e-4e6e-88df-658de64a713c",
   "metadata": {},
   "source": [
    "The `cmath` functions can be used to calculate complex-values functions. To define a complex number, use the `complex` genertor function as follows:\n",
    "```\n",
    "z = complex(<real part>,<complex part>)\n",
    "```\n",
    "In other words,\n",
    "$$ z = x + iy $$\n",
    "\n",
    "Try it for yourself: Test out one of the coolest identities in all of math:\n",
    "$$ e^{-ix} = cos(x) + isin(x)$$"
   ]
  },
  {
   "cell_type": "code",
   "execution_count": null,
   "id": "714afb87-3d63-42c4-ae8a-d96835350b26",
   "metadata": {},
   "outputs": [],
   "source": [
    "# import the complex math module\n",
    "\n",
    "\n",
    "## define a value for x at pi/4\n",
    "\n",
    "\n",
    "## compute the left-hand side of the equation\n",
    "\n",
    "\n",
    "## compute the right-hand side of the equation\n",
    "\n",
    "\n",
    "# check whether the two numbers are equivalent\n"
   ]
  },
  {
   "cell_type": "markdown",
   "id": "0fe74102-fd63-40be-a3bc-3c9853c7bfff",
   "metadata": {},
   "source": [
    "### The `random` module\n",
    "The `random` module provides functionality to generate random numbers"
   ]
  },
  {
   "cell_type": "code",
   "execution_count": null,
   "id": "eca49aa4-cf4b-441e-9740-bd7b8398beaf",
   "metadata": {},
   "outputs": [],
   "source": [
    "# import the random module\n",
    "\n",
    "\n",
    "# create a random integer between 1 and 10\n",
    "\n",
    "\n",
    "# create a random float between 1 and 10\n",
    "\n",
    "\n",
    "# sample the gaussian distribution\n",
    "# the default values for the mean (mu) and the stardard deviation (sigma) are 0 and 1\n"
   ]
  },
  {
   "cell_type": "markdown",
   "id": "97a2087c-db73-4bde-b739-bc9759c2d1b8",
   "metadata": {},
   "source": [
    "### Modules for the file system (next lecture)\n",
    "- os: basic operating system functions\n",
    "- shutil: functions for copying, etc"
   ]
  },
  {
   "cell_type": "markdown",
   "id": "1f2be37d-6825-40d7-9e5d-c63eae683aa6",
   "metadata": {},
   "source": [
    "### List of all built-in modules\n",
    "A list of all built-in modules can be accessed in the Python documentation at https://docs.python.org/3/py-modindex.html"
   ]
  },
  {
   "cell_type": "markdown",
   "id": "a0e14d68",
   "metadata": {},
   "source": [
    "### &#x1F914; Mini-Exercise\n",
    "Goal: Create an approximation to the sine function using polynomials. Calculate the root mean square error of the calculation for 100 random (float) values between -2 and 2.\n",
    "\n",
    "The sine of a number can be estimated with the first four terms of its Taylor expansion as:\n",
    "$$ sin(x) \\approx x - \\frac{x^3}{6} + \\frac{x^5}{120} - \\frac{x^7}{5040} $$\n",
    "\n",
    "The root mean square error (RMSE) is calculated as\n",
    "$$ RMSE = \\sqrt{\\frac{1}{N} \\sum_{i=1}^{N} (e_i - t_i)^2} $$\n",
    "where $N$ is the number of points, $e_i$ is the $i$th estimated value, and $t_i$ is the $i$th true value."
   ]
  },
  {
   "cell_type": "code",
   "execution_count": null,
   "id": "80694920-030e-4247-82a9-bd77bb0a8c5c",
   "metadata": {},
   "outputs": [],
   "source": [
    "# import the math and random modules\n",
    "\n",
    "\n",
    "# define your approximate to sin in a function called sine_poly\n",
    "\n",
    "\n",
    "# write a loop to calculate the root mean square error for 100 values\n",
    "\n",
    "\n",
    "# print the RMSE value\n"
   ]
  },
  {
   "cell_type": "markdown",
   "id": "600fe472-e0ae-402c-89a7-9391553192de",
   "metadata": {},
   "source": [
    "# Part 2: Generating a custom module\n",
    "Python has a lot of very useful modules that are built-in with its standard distribution. However, as you begin to develop code and work on your own projects, you will want to start generating modules that can be used for your particular purpose.\n",
    "\n",
    "For this example, we will shift over to the IDE you downloaded for this lesson - either the [PyCharm (Community Edition)](https://www.jetbrains.com/pycharm/) IDE or the [Visual Studio Code](https://code.visualstudio.com/download) IDE."
   ]
  },
  {
   "cell_type": "markdown",
   "id": "4508dac0-b983-4246-b228-fddfc75e99a0",
   "metadata": {},
   "source": [
    "To import a custom module into a Jupyter notebook, use the same syntax as above - use the import statment. The module name is given by the file name (without the py extension). For example, we can import the `test_module` module we created below:"
   ]
  },
  {
   "cell_type": "code",
   "execution_count": null,
   "id": "d241c132-eb2e-4a7c-8ee9-0b2a9c89128b",
   "metadata": {},
   "outputs": [],
   "source": [
    "# import the test module\n",
    "\n",
    "\n",
    "# call the functions from the test module\n"
   ]
  },
  {
   "cell_type": "markdown",
   "id": "5f6b598e-2133-489e-80e5-0a705256fd91",
   "metadata": {},
   "source": [
    "### &#x1F914; Mini-Exercise\n",
    "Edit the `test_module`, creating a new function for `middle_name()`"
   ]
  },
  {
   "cell_type": "markdown",
   "id": "5a57cdf2-39b7-4981-9912-73a3ae9ea270",
   "metadata": {},
   "source": [
    "## &#x2757; Caution! Module changes and Jupyter Notebook\n",
    "When you change a module outside of a Jupyter Notebook, you need to **restart your kernel** for the changes to be reflected in the notebook."
   ]
  },
  {
   "cell_type": "markdown",
   "id": "9137110a-0918-45dd-8609-bda44856ff7b",
   "metadata": {},
   "source": [
    "# Lecture 4-2 Exercise \n",
    "Goal: Complete the `astrology` module by filling in the functions in the `astrology.py` file."
   ]
  },
  {
   "cell_type": "markdown",
   "id": "9f2e3c01-69b5-40e6-b3b5-b759004db56f",
   "metadata": {},
   "source": [
    "For this example, we will make a module called `astrology` which will have two functions:\n",
    "1. birthday_to_sign(month, day) - a function to return the astrological sign corresponding to a given birthday\n",
    "2. sign_to_birthday_range(sign) - a function to return the birthday range for a given sign\n",
    "   \n",
    "The instructions for generating the module are provided in the comments of the separate file `astrology.py`."
   ]
  },
  {
   "cell_type": "code",
   "execution_count": null,
   "id": "91085d01-26e9-4626-ab5e-4751bbe91671",
   "metadata": {},
   "outputs": [],
   "source": [
    "# import the astrology module - give it an alias if you'd like\n"
   ]
  },
  {
   "cell_type": "code",
   "execution_count": null,
   "id": "ae78d8dd-0b5a-41fd-af4c-fdf3a20e8f38",
   "metadata": {},
   "outputs": [],
   "source": [
    "# test the birthday_to_sign function\n"
   ]
  },
  {
   "cell_type": "code",
   "execution_count": null,
   "id": "571fccea-947c-4319-a97d-6ef95857431d",
   "metadata": {},
   "outputs": [],
   "source": [
    "# test the sign_to_birthday_range function\n"
   ]
  }
 ],
 "metadata": {
  "kernelspec": {
   "display_name": "teaching",
   "language": "python",
   "name": "teaching"
  },
  "language_info": {
   "codemirror_mode": {
    "name": "ipython",
    "version": 3
   },
   "file_extension": ".py",
   "mimetype": "text/x-python",
   "name": "python",
   "nbconvert_exporter": "python",
   "pygments_lexer": "ipython3",
   "version": "3.11.3"
  }
 },
 "nbformat": 4,
 "nbformat_minor": 5
}
