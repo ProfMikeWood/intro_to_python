{
 "cells": [
  {
   "cell_type": "markdown",
   "id": "73ef0815",
   "metadata": {},
   "source": [
    "# Packages and Libraries"
   ]
  },
  {
   "cell_type": "markdown",
   "id": "9c7c86bd-3fdf-4a44-9a4e-1ca9e83966db",
   "metadata": {},
   "source": [
    "Name:\n",
    "\n",
    "Date:\n",
    "\n",
    "Learning Objectives:\n",
    "By the end of this lesson, you should be able to:\n",
    "1. Install a new conda library on your machine\n",
    "2. Generate a list of all modules available in your conda environment\n",
    "3. Develop your own Python library\n",
    "4. Implement a custom Python library in your conda environment"
   ]
  },
  {
   "cell_type": "markdown",
   "id": "1c0bbd8a-33dd-48ba-9296-58591e42d189",
   "metadata": {},
   "source": [
    "# Part 1: Installing Conda Packages\n",
    "In this course, we are using **miniconda** to manage our installation of Python as well as the packages we installed for this course. You may remember from our first lecture that we installed a package so that we can use this Jupyter notebook with the following command in our terminal:\n",
    "`conda install jupyter`\n",
    "\n",
    "To remind ourselves of this process we will install two more packages which will be used later on in this class: `pandas` and `scipy`\n",
    "\n",
    "The `pandas` library will provide a convenient way to work with numeric data. The `scipy` library will give us a wide range of computational tools."
   ]
  },
  {
   "cell_type": "markdown",
   "id": "687daa54-60e6-4a8f-a9d9-29f86afe0676",
   "metadata": {},
   "source": [
    "If you'd like to get a list of all the modules available in your conda installation, you can use the modules help feature:"
   ]
  },
  {
   "cell_type": "code",
   "execution_count": null,
   "id": "afecf239-6583-40ac-b344-2c05e37cb720",
   "metadata": {
    "scrolled": true
   },
   "outputs": [],
   "source": [
    "# use the help method to generate a list of all modules\n",
    "help('modules')"
   ]
  },
  {
   "cell_type": "markdown",
   "id": "16be5746-6358-470c-8e70-81e662f3d413",
   "metadata": {},
   "source": [
    "We can see in the above block that we have modules from the standard installation (e.g. `abc`) and we also have modules which we installed previously (e.g. `jupyter`).\n",
    "\n",
    "You may have received some `UserWarnings` in the above code block - this results from Python checking the import of each individual module. Developers will place a `UserWarning` in a module when they suspect it will be depricated later. If you'd like to disable these statements, fear not! There is a module for that:"
   ]
  },
  {
   "cell_type": "code",
   "execution_count": null,
   "id": "9988ffa5-8ee5-4a1b-ae09-9bce7f9869d5",
   "metadata": {},
   "outputs": [],
   "source": [
    "# import the warnings module \n",
    "\n",
    "\n",
    "# use the warnings module to filer out the UserWarnings\n"
   ]
  },
  {
   "cell_type": "markdown",
   "id": "55b6f1e2-34f7-446d-8147-0585ed1955d0",
   "metadata": {},
   "source": [
    "After running the warning filter, re-run the `help` code block above."
   ]
  },
  {
   "cell_type": "markdown",
   "id": "8e2abf89-9772-4421-8923-59d29802a068",
   "metadata": {},
   "source": [
    "## Part 2: Creating a Package\n",
    "So far, we have created modules that contain functions that used within Jupyter notebooks. Today, we'll create several modules and group them together into a *package*. \n",
    "\n",
    "Let's begin by creating a module called `general_notes` that contains a simple function `module_import_note` with a print statement that reminds us about importing modules. When complete, run the following code block to ensure your package works as expected:"
   ]
  },
  {
   "cell_type": "code",
   "execution_count": null,
   "id": "c807fc6a-3d1c-4707-9120-dcbc05fdc5a8",
   "metadata": {},
   "outputs": [],
   "source": [
    "# import the general_notes module\n",
    "\n",
    "\n",
    "# test the module_import_note function\n"
   ]
  },
  {
   "cell_type": "markdown",
   "id": "284ea789-9849-428c-89fc-2be89f107bfb",
   "metadata": {},
   "source": [
    "Next, let's create a separate module called `conda_notes` that specifically stores notes about `conda`. Build a function with a simple function called "
   ]
  },
  {
   "cell_type": "code",
   "execution_count": null,
   "id": "dd9d21ad-502c-4610-9764-32237c058473",
   "metadata": {},
   "outputs": [],
   "source": [
    "# import the conda_notes module\n",
    "\n",
    "\n",
    "# test the conda_environment_setup function\n"
   ]
  },
  {
   "cell_type": "markdown",
   "id": "ba848b17-4115-4775-b9aa-0e97d271487e",
   "metadata": {},
   "source": [
    "Now, consider if we could bundle these scripts into a *package* that we could import together.\n",
    "\n",
    "To create a package, first create a directory structure for your package and move everything into the directories. For this example, we will create a directory called `cs122notes` with a subdirectory called `conda`. Put the `general_notes` module into the top level directory and the `conda_notes` modules into the subdirectory.\n",
    "\n",
    "To give your directories a package structure, we need to add an `__init__.py` module to each subdirectory. The `__init__.py` module doesn't need to contain any code - but you can add code if you like. This is typically where developers will add `UserWarnings` as we saw above. Add the `__init__.py` modules and try import your modules from the package and running the functions we defined above:"
   ]
  },
  {
   "cell_type": "code",
   "execution_count": null,
   "id": "2e1039f5-d7b6-48b3-b78b-00780e9d0577",
   "metadata": {},
   "outputs": [],
   "source": [
    "# import the cs122notes package\n",
    "\n",
    "\n",
    "# run the module_import_note function from the general_notes modules\n",
    "\n",
    "\n",
    "# test the conda_environment_setup function\n"
   ]
  },
  {
   "cell_type": "markdown",
   "id": "841569e8-0855-40b6-ab6d-5056c9e0424a",
   "metadata": {},
   "source": [
    "### Using your package from a different directory\n",
    "If you want to use your package from a different directory, then one option you have is to tell Python where you want it to look. One way to do this is to use the `sys` module to modify your system path:"
   ]
  },
  {
   "cell_type": "code",
   "execution_count": null,
   "id": "87536bd8-4bd1-4515-bf85-93a0172f9482",
   "metadata": {},
   "outputs": [],
   "source": [
    "# import the sys module\n",
    "\n",
    "\n",
    "# insert the path to the directory of the cs122notes2 module\n"
   ]
  },
  {
   "cell_type": "markdown",
   "id": "e06e1f02-54e7-4e83-80e0-e18f1686662f",
   "metadata": {},
   "source": [
    "Now, the module can be accessed, imported, and utilized:"
   ]
  },
  {
   "cell_type": "code",
   "execution_count": null,
   "id": "a70899ba-8152-4712-9962-227fcc723052",
   "metadata": {},
   "outputs": [],
   "source": [
    "# import the cs122notes2 package\n",
    "\n",
    "\n",
    "# run the module_import_note function from the general_notes modules\n",
    "\n",
    "\n",
    "# test the conda_environment_setup function\n"
   ]
  },
  {
   "cell_type": "markdown",
   "id": "45401da3-fe29-4ade-9c1a-a004a7993d02",
   "metadata": {},
   "source": [
    "## Part 3: Installing Your Package in Your Conda Environment"
   ]
  },
  {
   "cell_type": "markdown",
   "id": "495f6a2b-1d7a-4572-bd9d-7c76b792c62f",
   "metadata": {},
   "source": [
    "After you've created a package, you may be interested in having your package available in other contexts. We can see above how to explicitly provide a path to a package. How can we *install* our package into our conda environment? The first thing we will need is a new file called `setup.py` and fill it with the following contents:"
   ]
  },
  {
   "cell_type": "code",
   "execution_count": null,
   "id": "e616b56f-2035-4041-b500-9caac4575130",
   "metadata": {},
   "outputs": [],
   "source": [
    "# from setuptools import setup, find_packages\n",
    "\n",
    "# setup(\n",
    "#     name='cs122notes',\n",
    "#     version='0.1',\n",
    "#     author='Mike Wood',\n",
    "#     author_email='mike.wood@sjsu.edu',\n",
    "#     platforms=[\"any\"],\n",
    "#     description='This package stores notes from the CS 122 class',\n",
    "#     packages=find_packages(include=['cs122notes','cs122notes*']),\n",
    "#     license=\"BSD\",\n",
    "# )"
   ]
  },
  {
   "cell_type": "markdown",
   "id": "eebdd5c7-ecc8-495c-99f5-fc942e45c932",
   "metadata": {},
   "source": [
    "Now, using your terminal, run the command from the directory where your `setup.py` file is located (be sure your cs122 conda environment is activated):\n",
    "\n",
    "`pip install .`\n",
    "\n",
    "If the installation is successful, your should receive a nice note about it was successfully installed."
   ]
  },
  {
   "cell_type": "code",
   "execution_count": null,
   "id": "22314e57-f803-4ef4-bc7f-5488e744a4d6",
   "metadata": {
    "scrolled": true
   },
   "outputs": [],
   "source": [
    "# use the help method to generate a list of all modules\n"
   ]
  },
  {
   "cell_type": "code",
   "execution_count": null,
   "id": "3e44036a-3c7b-4e69-9fcd-6a8b76b2ab7a",
   "metadata": {},
   "outputs": [],
   "source": [
    "# import the cs122notes package\n",
    "\n",
    "\n",
    "# run the module_import_note function from the general_notes modules\n",
    "\n",
    "\n",
    "# test the conda_environment_setup function\n"
   ]
  },
  {
   "cell_type": "markdown",
   "id": "662bf153-86cd-4eca-81c8-c2eacf45b98e",
   "metadata": {},
   "source": [
    "### Modifying an installed package\n",
    "After creating an installing your package, its likely that you would like to add more contends to your module. \n",
    "\n",
    "Add a new function to your `cs122notes` modules. Try running your new function:"
   ]
  },
  {
   "cell_type": "code",
   "execution_count": null,
   "id": "1237888b-85fe-49fe-831d-fbd7b495be66",
   "metadata": {},
   "outputs": [],
   "source": [
    "# run the module_import_note function from the general_notes modules\n"
   ]
  }
 ],
 "metadata": {
  "kernelspec": {
   "display_name": "cs122test3",
   "language": "python",
   "name": "cs122test3"
  },
  "language_info": {
   "codemirror_mode": {
    "name": "ipython",
    "version": 3
   },
   "file_extension": ".py",
   "mimetype": "text/x-python",
   "name": "python",
   "nbconvert_exporter": "python",
   "pygments_lexer": "ipython3",
   "version": "3.10.12"
  }
 },
 "nbformat": 4,
 "nbformat_minor": 5
}
