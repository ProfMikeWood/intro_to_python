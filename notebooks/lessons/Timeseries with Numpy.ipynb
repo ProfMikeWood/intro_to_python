{
 "cells": [
  {
   "cell_type": "markdown",
   "id": "49e61e1c",
   "metadata": {},
   "source": [
    "# Analyzing Timeseries with Numpy"
   ]
  },
  {
   "cell_type": "markdown",
   "id": "0c3a7daa-0a0a-481c-974f-6acd970606db",
   "metadata": {},
   "source": [
    "Name:\n",
    "\n",
    "Date:\n",
    "\n",
    "Learning Objectives:\n",
    "By the end of this lesson, you should be able to:\n",
    "1. Calculate trend lines in data\n",
    "2. Visualize trends on a graph"
   ]
  },
  {
   "cell_type": "markdown",
   "id": "059d3e86-c87d-411e-bd7e-63f26b727795",
   "metadata": {},
   "source": [
    "#### Import the libraries for this notebook"
   ]
  },
  {
   "cell_type": "code",
   "execution_count": null,
   "id": "cf1fd9a0-0e7b-48c2-af2f-4c76fc006348",
   "metadata": {},
   "outputs": [],
   "source": [
    "# import the numpy and matplotlib libraries\n"
   ]
  },
  {
   "cell_type": "markdown",
   "id": "0d4b0f71",
   "metadata": {},
   "source": [
    "## Part 1: Importing data from csv"
   ]
  },
  {
   "cell_type": "markdown",
   "id": "acf1e5a8",
   "metadata": {},
   "source": [
    "The numpy library provides us with a convenient way to read in data from a csv using the `genfromtxt` function:"
   ]
  },
  {
   "cell_type": "code",
   "execution_count": null,
   "id": "792f93bd-72e6-43bf-bdb0-47005ba271a7",
   "metadata": {},
   "outputs": [],
   "source": [
    "# define the file name\n",
    "\n",
    "\n",
    "# read in the timeseries\n",
    "\n",
    "\n",
    "# print the first 5 rows of the timeseries\n"
   ]
  },
  {
   "cell_type": "markdown",
   "id": "13f37bc3",
   "metadata": {},
   "source": [
    "### Make a plot of the data"
   ]
  },
  {
   "cell_type": "code",
   "execution_count": null,
   "id": "7203835d-827e-4d02-b519-e4712954cf88",
   "metadata": {},
   "outputs": [],
   "source": [
    "# make a new figure object\n",
    "\n",
    "\n",
    "# plot the timeseries\n",
    "\n",
    "\n",
    "# add labels to the data\n",
    "\n",
    "\n",
    "# add labels to the y axis\n",
    "\n",
    "\n",
    "# add gridlines\n",
    "\n",
    "\n",
    "# show the plot\n"
   ]
  },
  {
   "cell_type": "markdown",
   "id": "e4686fbb",
   "metadata": {},
   "source": [
    "### Computing trends\n",
    "The numpy package provides the functionality to compute trends in data using the `polyfit` function."
   ]
  },
  {
   "cell_type": "code",
   "execution_count": null,
   "id": "14fed448",
   "metadata": {},
   "outputs": [],
   "source": [
    "# compute the coefficients of the trend line in the stock market index\n",
    "\n",
    "\n",
    "# create the best fit function from the coefficients\n",
    "\n",
    "\n",
    "# compute the trend_line using the best fit function\n"
   ]
  },
  {
   "cell_type": "markdown",
   "id": "03f0e28e-53aa-44ef-9896-d48241413b7e",
   "metadata": {},
   "source": [
    "#### Plot the trend line on the graph"
   ]
  },
  {
   "cell_type": "code",
   "execution_count": null,
   "id": "255a299a-093d-4c88-89f3-f11787ac5d88",
   "metadata": {},
   "outputs": [],
   "source": [
    "# make a new figure object\n",
    "\n",
    "\n",
    "# plot the timeseries\n",
    "\n",
    "\n",
    "# plot the trend line and label it\n",
    "\n",
    "\n",
    "# add labels to the y axis\n",
    "\n",
    "\n",
    "# add gridlines\n",
    "\n",
    "\n",
    "# add a legend\n",
    "\n",
    "\n",
    "# show the plot\n"
   ]
  },
  {
   "cell_type": "markdown",
   "id": "d6404ed5",
   "metadata": {},
   "source": [
    "### Slicing data to specific timespans\n",
    "Often, we may be interested in specific times within our data - for example timeseries of significant increases or decreases. In these cases, we can *slice* our data and compute trends on the slice:"
   ]
  },
  {
   "cell_type": "code",
   "execution_count": null,
   "id": "e1dbcf85-b7f1-4400-9a42-6d9c6839068f",
   "metadata": {},
   "outputs": [],
   "source": [
    "# find the indices corresponding to the period July 2020 to Jan 2022\n",
    "\n",
    "\n",
    "# subset the timeseries to the indics\n",
    "\n",
    "\n",
    "# compute the trend line for the timeseries subset\n"
   ]
  },
  {
   "cell_type": "markdown",
   "id": "f9cb5a68-c5bc-4708-a970-11a38e9c5eac",
   "metadata": {},
   "source": [
    "Plot the trend line for the specified period"
   ]
  },
  {
   "cell_type": "code",
   "execution_count": null,
   "id": "f7bbb28c-9bd1-4c28-b76b-6d8ce334377c",
   "metadata": {},
   "outputs": [],
   "source": [
    "# make a new figure object\n",
    "\n",
    "\n",
    "# plot the timeseries\n",
    "\n",
    "\n",
    "# plot the trend line and label it\n",
    "\n",
    "\n",
    "# add labels to the y axis\n",
    "\n",
    "\n",
    "# add gridlines\n",
    "\n",
    "\n",
    "# add a legend\n",
    "\n",
    "\n",
    "# show the plot\n"
   ]
  },
  {
   "cell_type": "markdown",
   "id": "5f6b598e-2133-489e-80e5-0a705256fd91",
   "metadata": {},
   "source": [
    "### &#x1F914; Mini-Exercise\n",
    "Goal: Find the post prosperous year in the past 10 years, and plot it in green. Next, find the year with the biggest decline, and color it red. Add their slopes to the legend"
   ]
  },
  {
   "cell_type": "code",
   "execution_count": null,
   "id": "1bc8634e-8418-4e4d-93fb-3b7d98fcb0eb",
   "metadata": {},
   "outputs": [],
   "source": []
  }
 ],
 "metadata": {
  "kernelspec": {
   "display_name": "cs122test",
   "language": "python",
   "name": "cs122test"
  },
  "language_info": {
   "codemirror_mode": {
    "name": "ipython",
    "version": 3
   },
   "file_extension": ".py",
   "mimetype": "text/x-python",
   "name": "python",
   "nbconvert_exporter": "python",
   "pygments_lexer": "ipython3",
   "version": "3.10.12"
  }
 },
 "nbformat": 4,
 "nbformat_minor": 5
}
