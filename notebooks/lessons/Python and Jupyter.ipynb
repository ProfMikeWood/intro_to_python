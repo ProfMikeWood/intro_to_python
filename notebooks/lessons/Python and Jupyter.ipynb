{
 "cells": [
  {
   "cell_type": "markdown",
   "id": "31d0689d-ef9b-4826-80b9-6b3369e81c0c",
   "metadata": {},
   "source": [
    "# Python Basics\n",
    "\n",
    "Name: Mike Wood\n",
    "\n",
    "Date: 8/23/23\n",
    "\n",
    "### Learning objectives:\n",
    "By the end of this lession, you should be able to:\n",
    "1. Identify differences between Python and other computing languages\n",
    "2. Initiate, format, and run a mixture of markdown and coding cells in Jupyter Notebooks\n",
    "3. Describe common syntax and stylistic conventions of the Python language"
   ]
  },
  {
   "cell_type": "markdown",
   "id": "3237cd5f-e74b-4f9f-81fe-b0bc169bb305",
   "metadata": {},
   "source": [
    "## Differences between Python and other common languages"
   ]
  },
  {
   "cell_type": "markdown",
   "id": "670d437d-697b-4a6e-9252-61322879c130",
   "metadata": {},
   "source": [
    "### Difference 1: Implicit Variable Assignment\n",
    "In Python, variable types are assigned on declaration"
   ]
  },
  {
   "cell_type": "code",
   "execution_count": 2,
   "id": "96f9667c-ba7e-4937-a5ed-6698cf8ee25e",
   "metadata": {},
   "outputs": [],
   "source": [
    "x = 5"
   ]
  },
  {
   "cell_type": "code",
   "execution_count": 11,
   "id": "48dc1747-3527-461e-be0b-31d6bac44c78",
   "metadata": {},
   "outputs": [
    {
     "name": "stdout",
     "output_type": "stream",
     "text": [
      "<class 'int'>\n"
     ]
    }
   ],
   "source": [
    "print(type(x))"
   ]
  },
  {
   "cell_type": "code",
   "execution_count": 4,
   "id": "bf053cc9-8adb-44ff-9103-d596b15cd5d7",
   "metadata": {},
   "outputs": [],
   "source": [
    "y = 'five'"
   ]
  },
  {
   "cell_type": "code",
   "execution_count": 12,
   "id": "492c0fe1-a3d3-451d-8b92-0123317e6a6a",
   "metadata": {},
   "outputs": [
    {
     "name": "stdout",
     "output_type": "stream",
     "text": [
      "<class 'str'>\n"
     ]
    }
   ],
   "source": [
    "print(type(y))"
   ]
  },
  {
   "cell_type": "markdown",
   "id": "df64ec9d-ea3b-4df9-b58b-fe12f5631da1",
   "metadata": {},
   "source": [
    "### Difference 2: Variable Type Re-Assignment\n",
    "In Python, variable types can be changed by reassignment"
   ]
  },
  {
   "cell_type": "code",
   "execution_count": 10,
   "id": "f55d0ba3-91d5-41ad-b6e3-a3e8944c6aba",
   "metadata": {},
   "outputs": [
    {
     "name": "stdout",
     "output_type": "stream",
     "text": [
      "five <class 'str'>\n"
     ]
    }
   ],
   "source": [
    "print(y, type(y))"
   ]
  },
  {
   "cell_type": "code",
   "execution_count": 13,
   "id": "b4b7ae32-ffbd-4dfb-ad08-8d650a16ed0e",
   "metadata": {},
   "outputs": [],
   "source": [
    "y = 5"
   ]
  },
  {
   "cell_type": "code",
   "execution_count": 14,
   "id": "25c04fe4-e9c2-4c73-b823-d3a64ba32cd8",
   "metadata": {},
   "outputs": [
    {
     "name": "stdout",
     "output_type": "stream",
     "text": [
      "5 <class 'int'>\n"
     ]
    }
   ],
   "source": [
    "print(y, type(y))"
   ]
  },
  {
   "cell_type": "markdown",
   "id": "59a71fe3-5075-4364-85a5-59e263e2773b",
   "metadata": {},
   "source": [
    "### Difference 3: Integer Divisions\n",
    "As of Python 3, integer division will generate a float, if necessary"
   ]
  },
  {
   "cell_type": "code",
   "execution_count": 15,
   "id": "b0f6a27d-bb3e-4781-8c34-c13d56352939",
   "metadata": {},
   "outputs": [],
   "source": [
    "x = 6\n",
    "y = 5\n",
    "z = 2"
   ]
  },
  {
   "cell_type": "code",
   "execution_count": 18,
   "id": "be194dfb-6517-4ffb-838d-98f014862e96",
   "metadata": {},
   "outputs": [],
   "source": [
    "sum_1 = x+z\n",
    "sum_2 = y+z"
   ]
  },
  {
   "cell_type": "code",
   "execution_count": 19,
   "id": "6b786e3a-49b6-477c-b936-6ba02284610f",
   "metadata": {},
   "outputs": [
    {
     "name": "stdout",
     "output_type": "stream",
     "text": [
      "8 <class 'int'>\n",
      "7 <class 'int'>\n"
     ]
    }
   ],
   "source": [
    "print(sum_1, type(sum_1))\n",
    "print(sum_2, type(sum_2))"
   ]
  },
  {
   "cell_type": "code",
   "execution_count": 16,
   "id": "b8ec7fb0-e041-4253-8f24-df8ac6c9615a",
   "metadata": {},
   "outputs": [],
   "source": [
    "divisor_1 = x/z\n",
    "divisor_2 = y/z"
   ]
  },
  {
   "cell_type": "code",
   "execution_count": 17,
   "id": "8df5db6c-c1bc-448f-a9bb-f9edaa5309ed",
   "metadata": {},
   "outputs": [
    {
     "name": "stdout",
     "output_type": "stream",
     "text": [
      "3.0 <class 'float'>\n",
      "2.5 <class 'float'>\n"
     ]
    }
   ],
   "source": [
    "print(divisor_1, type(divisor_1))\n",
    "print(divisor_2, type(divisor_2))"
   ]
  },
  {
   "cell_type": "markdown",
   "id": "07afb227-f9fc-4ae0-ac1c-c1d62ef728bd",
   "metadata": {},
   "source": [
    "### Difference 4: Blocks\n",
    "In Python, code blocks are delineated by spaces"
   ]
  },
  {
   "cell_type": "code",
   "execution_count": 2,
   "id": "cea52033-3315-4dca-80d0-509fedc740c8",
   "metadata": {},
   "outputs": [
    {
     "name": "stdout",
     "output_type": "stream",
     "text": [
      "Yep, a = 1\n"
     ]
    }
   ],
   "source": [
    "a=1\n",
    "if a==1:\n",
    "    print('Yep, a = 1')"
   ]
  },
  {
   "cell_type": "code",
   "execution_count": 3,
   "id": "ac01cb05-5ccc-4e62-b6fe-563487dd2d80",
   "metadata": {},
   "outputs": [
    {
     "name": "stdout",
     "output_type": "stream",
     "text": [
      "0\n",
      "1\n",
      "2\n",
      "3\n",
      "4\n"
     ]
    }
   ],
   "source": [
    "for i in range(5):\n",
    "    print(i)"
   ]
  },
  {
   "cell_type": "markdown",
   "id": "6b0d9659-9c41-4e26-992e-665a290bc5a8",
   "metadata": {},
   "source": [
    "## Jupyter Notes"
   ]
  },
  {
   "cell_type": "markdown",
   "id": "b1a7e7f1-13f1-475c-a966-f3f090c77cee",
   "metadata": {},
   "source": [
    "### Jupyter Note 1: Jupyter Cells"
   ]
  },
  {
   "cell_type": "markdown",
   "id": "bd35e42f-04d1-4e07-b612-d30ea3db8d2f",
   "metadata": {},
   "source": [
    "- In Jupyter Notebooks, there are two types of cells:\n",
    "    - Markdown cells are for formatted text\n",
    "    - Code cells are for writing and running Python code"
   ]
  },
  {
   "cell_type": "markdown",
   "id": "82ad2c83-e606-48f0-8422-81f37968dc5a",
   "metadata": {},
   "source": [
    "### Jupyter Note 2: Variable Storage\n",
    "In Jupyter notebooks, variables are stored into memory and can be accessed by subsequent cells"
   ]
  },
  {
   "cell_type": "code",
   "execution_count": 4,
   "id": "b14db3c8-c5fe-4074-a0c6-b8764da1bc62",
   "metadata": {},
   "outputs": [
    {
     "name": "stdout",
     "output_type": "stream",
     "text": [
      "1\n"
     ]
    }
   ],
   "source": [
    "print(a)"
   ]
  },
  {
   "cell_type": "code",
   "execution_count": null,
   "id": "1a94ab76-b816-4d92-96b2-c4560d3d83ca",
   "metadata": {},
   "outputs": [],
   "source": []
  },
  {
   "cell_type": "markdown",
   "id": "200d9e96-3082-46e8-b6df-fb2f8bbb141e",
   "metadata": {},
   "source": [
    "### Jupyter Note 3: Formatting Tables and Other Markdown Item"
   ]
  },
  {
   "cell_type": "markdown",
   "id": "d0529342-fc8b-4c68-bf8d-84ba9f3b5833",
   "metadata": {},
   "source": [
    "| Type | Description | Example |\n",
    "| -- | -- | -- |\n",
    "| variable name | name of a variable value  | a_variable_name | \n",
    "| constant name | name of a constant value  | A_CONSTANT |"
   ]
  },
  {
   "cell_type": "markdown",
   "id": "4dc3fe40-881e-4377-9660-2e1777efdd68",
   "metadata": {},
   "source": [
    "For more information, see the cheat sheet here: https://www.ibm.com/docs/en/watson-studio-local/1.2.3?topic=notebooks-markdown-jupyter-cheatsheet"
   ]
  },
  {
   "cell_type": "markdown",
   "id": "2c6b9a02-046c-4850-a79e-3eb245355785",
   "metadata": {},
   "source": [
    "## Python syntax and stylistic conventions"
   ]
  },
  {
   "cell_type": "markdown",
   "id": "6740eee9-ebb5-4437-9b2d-7e815fa6fbd3",
   "metadata": {},
   "source": [
    "## Syntax Note 1: Comments\n",
    "In Python, comments are written with \"hashtags\" (or \"pound signs\", depending on your generation)"
   ]
  },
  {
   "cell_type": "code",
   "execution_count": 21,
   "id": "c939d2c3-bfd2-4200-8cb7-a9e9d22c8d6a",
   "metadata": {},
   "outputs": [
    {
     "name": "stdout",
     "output_type": "stream",
     "text": [
      "17\n"
     ]
    }
   ],
   "source": [
    "# here I define the variable x\n",
    "x = 17\n",
    "# now I will print x\n",
    "print(x)"
   ]
  },
  {
   "cell_type": "markdown",
   "id": "8cf2c693-ceb4-43c0-a34f-077feb9dd7ba",
   "metadata": {},
   "source": [
    "## Syntax Note #2: Splitting strings across lines\n",
    "In Python, strings must be kept on the same line. To split across a line, "
   ]
  },
  {
   "cell_type": "code",
   "execution_count": 22,
   "id": "af8ebf2f-3b4c-4f21-ac03-f697575ca95d",
   "metadata": {},
   "outputs": [
    {
     "name": "stdout",
     "output_type": "stream",
     "text": [
      "The quick brown fox jumped over the lazy brown dog.\n"
     ]
    }
   ],
   "source": [
    "sentence = (\"The quick brown fox jumped over \"\n",
    "\"the lazy brown dog.\")\n",
    "print(sentence)"
   ]
  },
  {
   "cell_type": "code",
   "execution_count": 24,
   "id": "dfb59987-9a0f-42d8-b3ed-1d3770058587",
   "metadata": {},
   "outputs": [
    {
     "name": "stdout",
     "output_type": "stream",
     "text": [
      "The quick brown fox jumped over the lazy brown dog.\n"
     ]
    }
   ],
   "source": [
    "sentence = \"The quick brown fox jumped over \" \\\n",
    " + \"the lazy brown dog.\"\n",
    "print(sentence)"
   ]
  },
  {
   "cell_type": "markdown",
   "id": "4e29d499-2c0a-42b1-a246-75f4a133f694",
   "metadata": {},
   "source": [
    "## Syntax Note #3: String Quotes\n",
    "In Python, it doesn't matter whether you use single or double quotes, as long as you're consistent\n",
    "\n",
    "Style: Stick to one convention within a script."
   ]
  },
  {
   "cell_type": "code",
   "execution_count": 10,
   "id": "a6ee7bd9-4ac4-4dd2-9c05-2ca113787816",
   "metadata": {},
   "outputs": [
    {
     "name": "stdout",
     "output_type": "stream",
     "text": [
      "Mike Wood\n"
     ]
    }
   ],
   "source": [
    "string_1 = \"Mike\"\n",
    "string_2 = 'Wood'\n",
    "print(string_1, string_2)"
   ]
  },
  {
   "cell_type": "code",
   "execution_count": 12,
   "id": "9b916d74-9bf4-448d-8204-49c984888615",
   "metadata": {},
   "outputs": [
    {
     "name": "stdout",
     "output_type": "stream",
     "text": [
      "Mike's last name is \"Wood\"\n"
     ]
    }
   ],
   "source": [
    "string_1 = \"Mike's last name is\"\n",
    "string_2 = '\"Wood\"'\n",
    "print(string_1, string_2)"
   ]
  },
  {
   "cell_type": "markdown",
   "id": "3bfa542f-5b47-4cf9-845b-b947823e368a",
   "metadata": {},
   "source": [
    "## Syntax Note #4: Reserved Names\n",
    "Python allows you to overwrite built-in functions - don't do that.\n",
    "\n",
    "If you happen to do it in a Jupyter Notebook, then use the `del` command to delete the reference"
   ]
  },
  {
   "cell_type": "code",
   "execution_count": 15,
   "id": "8945240d-8a45-40f9-a7e9-af543602fe52",
   "metadata": {},
   "outputs": [
    {
     "name": "stdout",
     "output_type": "stream",
     "text": [
      "Mike's last name is\n"
     ]
    }
   ],
   "source": [
    "print(string_1)"
   ]
  },
  {
   "cell_type": "code",
   "execution_count": 16,
   "id": "995dece9-c32f-4461-91db-c9566388ef25",
   "metadata": {},
   "outputs": [],
   "source": [
    "print = 10"
   ]
  },
  {
   "cell_type": "code",
   "execution_count": 19,
   "id": "89e4c9f2-518b-4fd7-b761-0cf50fad61c9",
   "metadata": {},
   "outputs": [
    {
     "name": "stdout",
     "output_type": "stream",
     "text": [
      "Mike's last name is\n"
     ]
    }
   ],
   "source": [
    "print(string_1)"
   ]
  },
  {
   "cell_type": "code",
   "execution_count": 18,
   "id": "46a9f2a7-404e-4afe-a47c-944e067cf35b",
   "metadata": {},
   "outputs": [],
   "source": [
    "del print"
   ]
  },
  {
   "cell_type": "code",
   "execution_count": 21,
   "id": "18bf4b20-897e-4bbe-a027-b9886f916c8e",
   "metadata": {},
   "outputs": [],
   "source": [
    "#dir(__builtins__)"
   ]
  },
  {
   "cell_type": "markdown",
   "id": "a3beb62e-778b-46db-8bc4-e3435fb13581",
   "metadata": {},
   "source": [
    "## Python Style: Readablility!\n",
    "In Python, the goal is to make your code as readable as possible. This is helpful for collaboration and for returning to code you have written.\n",
    "\n",
    "There are full list of guidelines available at https://peps.python.org/pep-0008/"
   ]
  },
  {
   "cell_type": "markdown",
   "id": "b6426daf-f5a6-4798-a5eb-4cdeaef9983c",
   "metadata": {},
   "source": [
    "### 4 Preliminary Style Recommendations\n",
    "1. Add comments to your code (or markdown cells in Jupyter)\n",
    "2. Use descriptive variables names\n",
    "3. Avoid extremely long lines (cap at 72 characters)\n",
    "4. Add spacing between lines and between operators"
   ]
  },
  {
   "cell_type": "code",
   "execution_count": null,
   "id": "1b1ec080-e9cc-4649-bc3f-8e67555e0a09",
   "metadata": {},
   "outputs": [],
   "source": []
  }
 ],
 "metadata": {
  "kernelspec": {
   "display_name": "cs122",
   "language": "python",
   "name": "cs122"
  },
  "language_info": {
   "codemirror_mode": {
    "name": "ipython",
    "version": 3
   },
   "file_extension": ".py",
   "mimetype": "text/x-python",
   "name": "python",
   "nbconvert_exporter": "python",
   "pygments_lexer": "ipython3",
   "version": "3.10.12"
  }
 },
 "nbformat": 4,
 "nbformat_minor": 5
}
