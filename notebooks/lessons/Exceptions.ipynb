{
 "cells": [
  {
   "cell_type": "markdown",
   "id": "49e61e1c",
   "metadata": {},
   "source": [
    "# Exceptions"
   ]
  },
  {
   "cell_type": "markdown",
   "id": "0c3a7daa-0a0a-481c-974f-6acd970606db",
   "metadata": {},
   "source": [
    "Name:\n",
    "\n",
    "Date:\n",
    "\n",
    "Learning Objectives:\n",
    "By the end of this lesson, you should be able to:\n",
    "1. Explain how to diagnose the source of an Exception through a Traceback\n",
    "2. Use the try and except clause to handle Exceptions in your code\n",
    "3. Raise Exceptions and define custom Exceptions"
   ]
  },
  {
   "cell_type": "markdown",
   "id": "0d4b0f71",
   "metadata": {},
   "source": [
    "# Part 1: Diagnosing Exceptions"
   ]
  },
  {
   "cell_type": "markdown",
   "id": "acf1e5a8",
   "metadata": {},
   "source": [
    "In Python, \"errors\" and are referred to as \"Exceptions\". You can design your code to handle Exceptions you may expect to occur when your code is written.\n",
    "\n",
    "The most common exception is the `SyntaxError`:"
   ]
  },
  {
   "cell_type": "code",
   "execution_count": null,
   "id": "792f93bd-72e6-43bf-bdb0-47005ba271a7",
   "metadata": {},
   "outputs": [],
   "source": [
    "# try a print statment without closing a set of parentheses\n"
   ]
  },
  {
   "cell_type": "markdown",
   "id": "d5c5b153-5e84-41d0-bb73-30585932e2bf",
   "metadata": {},
   "source": [
    "As you can see, the Exception message will print the type of error that has occurred. \n",
    "\n",
    "Other common errors include the `TypeError`:"
   ]
  },
  {
   "cell_type": "code",
   "execution_count": null,
   "id": "de65933b-3c83-46c0-9c40-6746f3c2d7d1",
   "metadata": {},
   "outputs": [],
   "source": [
    "# try to print a statement that concatenates a string and an integer\n"
   ]
  },
  {
   "cell_type": "markdown",
   "id": "5948509b-bca7-4c07-8887-b3e15b727b54",
   "metadata": {},
   "source": [
    "The `NameError`:"
   ]
  },
  {
   "cell_type": "code",
   "execution_count": null,
   "id": "04f79558-ad70-4d41-ba12-83b04e0c3c04",
   "metadata": {},
   "outputs": [],
   "source": [
    "# try to print the variable hello\n"
   ]
  },
  {
   "cell_type": "markdown",
   "id": "fccb5054-e9e5-455d-83ae-0adf2d8ddd34",
   "metadata": {},
   "source": [
    "And the `AttributeError`:"
   ]
  },
  {
   "cell_type": "code",
   "execution_count": null,
   "id": "6aa368c1-f34f-43cd-a28e-8d69d0f1ce50",
   "metadata": {},
   "outputs": [],
   "source": [
    "# define a list\n",
    "\n",
    "\n",
    "# try to add a number to the list using a method called add\n"
   ]
  },
  {
   "cell_type": "markdown",
   "id": "264b2bb4-174b-424a-8ab8-3a70f033bff9",
   "metadata": {},
   "source": [
    "In each of the above examples, the error report provides a `Traceback` that allows you to find where in your code your error has occurred. When using a single cell or block of code, the `Traceback` is not very interesting - you can see where the error occurred. However, what if you have functions that rely on other functions?"
   ]
  },
  {
   "cell_type": "code",
   "execution_count": null,
   "id": "0eea05c7-1003-45b9-a73c-a80617a7378d",
   "metadata": {},
   "outputs": [],
   "source": [
    "# define a function called travel time that calculates the time\n",
    "# it takes to travel a distance d when traveling at a rate r\n",
    "\n",
    "\n",
    "# define a function called travel_times that will compute the\n",
    "# travel times given a list of distances ds and a list of\n",
    "# rates rs. Use the travel_time function above to compute\n",
    "# each individual time as you loop through ds and rs\n",
    "\n",
    "\n",
    "# test 1 - should not generate an Exception\n",
    "ds_1 = [1,2,3]\n",
    "rs_1 = [4,5,6]\n",
    "travel_times(ds_1, rs_1)\n",
    "\n",
    "# # test 2 - should generate an Exception\n",
    "ds_2 = [1,2,3]\n",
    "rs_2 = [4,5,0]\n",
    "travel_times(ds_2, rs_2)"
   ]
  },
  {
   "cell_type": "markdown",
   "id": "315a1ffc-b7e2-4bc7-9425-0011fd867abc",
   "metadata": {},
   "source": [
    "In the above codeblock, we see lots of details about the error in our code that allows us to find where and why our error occurred. The lowest message on the list described the actual part of the code that generated our error - in this case, we find an error in the `d/r` statement because one of our `r` values was set to 0.\n",
    "\n",
    "However, we also get a lot more information. Reading from the top down, we can *traceback* the series of functions and commands that led to the Exception. We get information that our error originated with our call to the `travel_times` function. Then inside, travel times, we see that we received an error from the `travel_time` function. And finally, we have an error in the statement `d/r` - and that error is the `ZeroDivisionError`, telling us we tried to divide something by 0.\n",
    "\n",
    "Using this series of tracebacks, Python allows us to work sequentially through a series of functions to determine where our error may have occurred."
   ]
  },
  {
   "cell_type": "markdown",
   "id": "de66a7c7-974b-4d79-875c-d5225dae0a71",
   "metadata": {},
   "source": [
    "### &#x1F914; Mini-Exercise\n",
    "Goal: Import the `matrix_multiplication` module and diagnose where the error occurs when running the code block below.\n",
    "\n",
    "One of the cornerstones of linear algebra is matrix multipliation. Test out the following code and answer the following questions for the second test.\n",
    "\n",
    "Questions for test 2:\n",
    "- What kind of exception occurs?\n",
    "- Where does the exception occur?\n",
    "- What leads to this exception?"
   ]
  },
  {
   "cell_type": "code",
   "execution_count": null,
   "id": "3f1a2140-6296-4403-8b96-af7f9748f7b6",
   "metadata": {},
   "outputs": [],
   "source": [
    "# import the matrix_multiplication module\n",
    "import matrix_multiplication as mm\n",
    "\n",
    "# test 1\n",
    "A = [[1, 2], [3, 4]]\n",
    "B = [[1, 0], [0, 1]]\n",
    "AB = mm.matrix_multiplication_2d(A, B)\n",
    "print('Test 1 results: AB = ',AB)\n",
    "\n",
    "# # test 2\n",
    "A = [[1, 2, 3], [4, 5, 6]]\n",
    "B = [[1, 0], [0, 1]]\n",
    "AB = mm.matrix_multiplication_2d(A, B)\n",
    "print('Test 2 results: AB = ',AB)"
   ]
  },
  {
   "cell_type": "markdown",
   "id": "600fe472-e0ae-402c-89a7-9391553192de",
   "metadata": {},
   "source": [
    "# Part 2: The `try` and `except` clause\n",
    "In many cases, we might expect that there will be some errors that arise in our code. Suppose, for example, we have a set of 5 files that we would like to access information from. We could write a loop to access all of these files as follows:"
   ]
  },
  {
   "cell_type": "code",
   "execution_count": null,
   "id": "307477a8-cbbc-40c9-9641-bae3d3387d30",
   "metadata": {},
   "outputs": [],
   "source": [
    "# write a loop to read the data from all 5 files in the data directory\n"
   ]
  },
  {
   "cell_type": "markdown",
   "id": "ffb0508a-1706-45e9-8fa1-b48ba8541ef8",
   "metadata": {},
   "source": [
    "### Try and Except\n",
    "If you suspect that some of your files might be corrupted, then you could write some code that will skip those files in your processing"
   ]
  },
  {
   "cell_type": "code",
   "execution_count": null,
   "id": "a6c493de-ece9-4237-904a-87e7b9b19459",
   "metadata": {},
   "outputs": [],
   "source": [
    "# use the try statement to attempt opening each of the files\n",
    "# use the except statement to provide a message if the opening did not work\n",
    "\n"
   ]
  },
  {
   "cell_type": "markdown",
   "id": "cd3c52a4-bc1c-429e-8742-d3491cc42091",
   "metadata": {},
   "source": [
    "The except statement provides a "
   ]
  },
  {
   "cell_type": "code",
   "execution_count": null,
   "id": "9b46a2d5-504b-457c-b920-2c5ae776fc6e",
   "metadata": {},
   "outputs": [],
   "source": [
    "# use the try statement to attempt opening each of the files\n",
    "# use the except statement to provide a message if the opening did not work\n"
   ]
  },
  {
   "cell_type": "markdown",
   "id": "5f6b598e-2133-489e-80e5-0a705256fd91",
   "metadata": {},
   "source": [
    "### &#x1F914; Mini-Exercise\n",
    "Goal: Update the `matrix_multiplication` lines below to avoid an error "
   ]
  },
  {
   "cell_type": "code",
   "execution_count": null,
   "id": "f1d12c0f-a1b8-45cf-aa40-d1739bcc4c0d",
   "metadata": {},
   "outputs": [],
   "source": [
    "# copy the lines above that runs two tests with the matrix_multiplication module\n",
    "# use a try-except block to run the avoid an error in the testing\n",
    "# if you get your code working with one except statement, try providing \n",
    "# alterative except statement(s) to catch different types of errors\n",
    "\n",
    "# test 1\n",
    "A = [[1, 2], [3, 4]]\n",
    "B = [[1, 0], [0, 1]]\n",
    "AB = mm.matrix_multiplication_2d(A, B)\n",
    "print('Test 1 results: AB = ',AB)\n",
    "\n",
    "# # test 2\n",
    "A = [[1, 2, 3], [4, 5, 6]]\n",
    "B = [[1, 0], [0, 1]]\n",
    "AB = mm.matrix_multiplication_2d(A, B)\n",
    "print('Test 2 results: AB = ',AB)"
   ]
  },
  {
   "cell_type": "markdown",
   "id": "9137110a-0918-45dd-8609-bda44856ff7b",
   "metadata": {},
   "source": [
    "# Part 3: Raising Exceptions and Defining Custom Exceptions"
   ]
  },
  {
   "cell_type": "markdown",
   "id": "9f2e3c01-69b5-40e6-b3b5-b759004db56f",
   "metadata": {},
   "source": [
    "As you develop your own modules, you will likely be very aware of the different possible errors that a user might run into. In this case, it is beneficial to raise Exceptions in your code or even generate your own types of exceptions that could be caught using `except` statements in your users' codes. "
   ]
  },
  {
   "cell_type": "markdown",
   "id": "42a82aea-bfbf-472a-be68-16dc303e7c18",
   "metadata": {},
   "source": [
    "## Raising Exceptions\n",
    "When designing code, you can raise an Exception using the `raise` keyword"
   ]
  },
  {
   "cell_type": "code",
   "execution_count": null,
   "id": "f62b9cee-1cb5-4b0a-a2f0-a9cfc50345c5",
   "metadata": {},
   "outputs": [],
   "source": [
    "# raise a ValueError Exception\n",
    "# print a message that the value is not valid\n"
   ]
  },
  {
   "cell_type": "markdown",
   "id": "1a2acf75-bf8c-4faf-9ba9-cc8c644ae703",
   "metadata": {},
   "source": [
    "This can be helpful when writing your own function. For example, implement a `ValueError` in the matrix multiplication module in the scenario that the the columns of B are not equal to the rows of A"
   ]
  },
  {
   "cell_type": "code",
   "execution_count": null,
   "id": "9f6cf18c-2fdd-49a2-bbef-07ddd9a120ff",
   "metadata": {},
   "outputs": [],
   "source": [
    "# edit the matrix_multiplication_2d to raise a ValueError if the columns of A\n",
    "# are not equal to the rows of B\n",
    "# be sure to restart your kernel before running this cell after editing the file\n",
    "\n",
    "# import the matrix_multiplication module\n",
    "import matrix_multiplication as mm\n",
    "\n",
    "# # test 2\n",
    "A = [[1, 2, 3], [4, 5, 6]]\n",
    "B = [[1, 0], [0, 1]]\n",
    "AB = mm.matrix_multiplication_2d(A, B)\n",
    "print('Test 2 results: AB = ',AB)"
   ]
  },
  {
   "cell_type": "markdown",
   "id": "a75c0edd-9bb5-4a70-98b1-43613f35473c",
   "metadata": {},
   "source": [
    "There are many Exceptions in Python which you can access:"
   ]
  },
  {
   "cell_type": "code",
   "execution_count": null,
   "id": "874c6123-9075-4869-8286-484e3b3e8817",
   "metadata": {},
   "outputs": [],
   "source": [
    "# print all of the Exceptions in the Exception class\n",
    "for class_name in Exception.__subclasses__():\n",
    "    print(class_name.__name__)"
   ]
  },
  {
   "cell_type": "markdown",
   "id": "4c9ae758-4b0f-4fc8-921c-701a3f58fc8d",
   "metadata": {},
   "source": [
    "However, you may want to defined your own exception. We can do this in Python by leveraging the idea that Exceptions are classes - and we can make a subclass as follows:"
   ]
  },
  {
   "cell_type": "code",
   "execution_count": null,
   "id": "e2240cea-0afd-4810-9685-a2b0fb8aa94e",
   "metadata": {},
   "outputs": [],
   "source": [
    "# define a class exception called CustomException122\n"
   ]
  },
  {
   "cell_type": "markdown",
   "id": "79dc792f-821a-4fa1-832c-ab0fd0f4a169",
   "metadata": {},
   "source": [
    "Once you've defined your Exception, you can raise it within your code"
   ]
  },
  {
   "cell_type": "code",
   "execution_count": null,
   "id": "c07f9f4f-9300-445f-96e0-52d3598d01dc",
   "metadata": {},
   "outputs": [],
   "source": [
    "# raise your custom exception\n"
   ]
  },
  {
   "cell_type": "markdown",
   "id": "e199e506-9e5e-4b43-9b1a-3addc0bf402c",
   "metadata": {},
   "source": [
    "### &#x1F914; Mini-Exercise\n",
    "Goal: Update the `matrix_multiplication` module to provide a custom error called `MatrixSizeError`. Use this error in your check that the columns of A must be equal to the columns of B. Then, implement this custome error in the an except block."
   ]
  },
  {
   "cell_type": "code",
   "execution_count": null,
   "id": "42242fb3-60da-46b7-9f47-344e3e26168e",
   "metadata": {},
   "outputs": [],
   "source": [
    "# define a new error called MatrixSizeError in the matrix_multiplication module\n",
    "# then, edit the matrix_multiplication_2d to raise a MatrixSizeError if the columns of A\n",
    "# are not equal to the rows of B\n",
    "# be sure to restart your kernel before running this cell\n",
    "\n",
    "# import the matrix_multiplication module\n",
    "import matrix_multiplication as mm\n",
    "\n",
    "# # test 2\n",
    "A = [[1, 2, 3], [4, 5, 6]]\n",
    "B = [[1, 0], [0, 1]]\n",
    "AB = mm.matrix_multiplication_2d(A, B)\n",
    "print('Test 2 results: AB = ',AB)"
   ]
  }
 ],
 "metadata": {
  "kernelspec": {
   "display_name": "teaching",
   "language": "python",
   "name": "teaching"
  },
  "language_info": {
   "codemirror_mode": {
    "name": "ipython",
    "version": 3
   },
   "file_extension": ".py",
   "mimetype": "text/x-python",
   "name": "python",
   "nbconvert_exporter": "python",
   "pygments_lexer": "ipython3",
   "version": "3.11.3"
  }
 },
 "nbformat": 4,
 "nbformat_minor": 5
}
