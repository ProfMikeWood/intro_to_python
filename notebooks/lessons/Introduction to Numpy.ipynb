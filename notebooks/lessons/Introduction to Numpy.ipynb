{
 "cells": [
  {
   "cell_type": "markdown",
   "id": "49e61e1c",
   "metadata": {},
   "source": [
    "# Introduction to NumPy"
   ]
  },
  {
   "cell_type": "markdown",
   "id": "0c3a7daa-0a0a-481c-974f-6acd970606db",
   "metadata": {},
   "source": [
    "Name:\n",
    "\n",
    "Date:\n",
    "\n",
    "Learning Objectives:\n",
    "By the end of this lesson, you should be able to:\n",
    "1. Access standard mathemtical functions in the NumPy library\n",
    "2. Generate arrays and use methods to describe array shapes and sizes\n",
    "3. Run computations using arrays in Numpy"
   ]
  },
  {
   "cell_type": "markdown",
   "id": "059d3e86-c87d-411e-bd7e-63f26b727795",
   "metadata": {},
   "source": [
    "## Import the NumPy library"
   ]
  },
  {
   "cell_type": "code",
   "execution_count": null,
   "id": "cf1fd9a0-0e7b-48c2-af2f-4c76fc006348",
   "metadata": {},
   "outputs": [],
   "source": [
    "# import the numpy library using the np alias\n"
   ]
  },
  {
   "cell_type": "markdown",
   "id": "0d4b0f71",
   "metadata": {},
   "source": [
    "# Part 1: Mathematical Functions in NumPy"
   ]
  },
  {
   "cell_type": "markdown",
   "id": "acf1e5a8",
   "metadata": {},
   "source": [
    "The numpy library provides all of the standard mathematical functions you might come across in your scientific calculations.\n",
    "\n",
    "For example, `numpy` has some simple algebraic functions:"
   ]
  },
  {
   "cell_type": "code",
   "execution_count": null,
   "id": "792f93bd-72e6-43bf-bdb0-47005ba271a7",
   "metadata": {},
   "outputs": [],
   "source": [
    "# define a variable x\n",
    "\n",
    "\n",
    "# compute x^2\n",
    "\n",
    "\n",
    "# compute the square root of x\n",
    "\n",
    "\n",
    "# compute 10 to the xth power\n"
   ]
  },
  {
   "cell_type": "markdown",
   "id": "13f37bc3",
   "metadata": {},
   "source": [
    "Numpy also has the standard trigonometric functions:"
   ]
  },
  {
   "cell_type": "code",
   "execution_count": null,
   "id": "7203835d-827e-4d02-b519-e4712954cf88",
   "metadata": {},
   "outputs": [],
   "source": [
    "# define a variable theta\n",
    "\n",
    "\n",
    "# compute the value of sin(theta)\n",
    "\n",
    "\n",
    "# compute the value of cos(theta)\n",
    "\n",
    "\n",
    "# compute the value of tan(theta)\n"
   ]
  },
  {
   "cell_type": "markdown",
   "id": "e4686fbb",
   "metadata": {},
   "source": [
    "Finally, numpy has functions for exponentials and logarithms:"
   ]
  },
  {
   "cell_type": "code",
   "execution_count": null,
   "id": "14fed448",
   "metadata": {},
   "outputs": [],
   "source": [
    "# define a number with the value e\n",
    "\n",
    "\n",
    "# print the value to check\n",
    "\n",
    "\n",
    "# compute the exponential of 1 and the exponential of 2\n",
    "# in otherwords, e^1 and e^2\n",
    "\n",
    "\n",
    "# compute the logarithm of e \n",
    "#   - what is the base of the logarithm?\n",
    "#   - what is the other name for this logarithm?\n",
    "\n",
    "\n",
    "# compute the logarithm with the base 10\n"
   ]
  },
  {
   "cell_type": "markdown",
   "id": "de66a7c7-974b-4d79-875c-d5225dae0a71",
   "metadata": {},
   "source": [
    "### &#x1F914; Mini-Exercise\n",
    "Goal: Estimate the value of `sin` using a polynomial. Then, compute the error from the true value of sin.\n",
    "\n",
    "The sine of a number can be estimated with the first four terms of its \"Taylor expansion\" as:\n",
    "$$ sin(x) \\approx x - \\frac{x^3}{6} + \\frac{x^5}{120} - \\frac{x^7}{5040} $$\n",
    "\n",
    "Compute sin for a given value of $x$ using this approximatation. Then, calculate the error from the true value of `sin`"
   ]
  },
  {
   "cell_type": "code",
   "execution_count": null,
   "id": "3f1a2140-6296-4403-8b96-af7f9748f7b6",
   "metadata": {},
   "outputs": [],
   "source": [
    "# declare a variable x and give it a value between -2 and 2\n",
    "\n",
    "\n",
    "# compute and print the sin approximation\n",
    "\n",
    "\n",
    "# compute the true value of sin\n",
    "\n",
    "\n",
    "# compute the error between your approximated value and the true value\n",
    "\n"
   ]
  },
  {
   "cell_type": "markdown",
   "id": "600fe472-e0ae-402c-89a7-9391553192de",
   "metadata": {},
   "source": [
    "# Part 2: Arrays in NumPy\n",
    "Calculations on individiual numbers is at the heart of the `numpy` package. However, NumPy is much more powerful than that. We can do rapid calculations on large collections of values in when we operate with *arrays*"
   ]
  },
  {
   "cell_type": "markdown",
   "id": "b6db7b1f",
   "metadata": {},
   "source": [
    "### Defining arrays\n",
    "Arrays can be defined in a variety of ways as follows:"
   ]
  },
  {
   "cell_type": "code",
   "execution_count": null,
   "id": "307477a8-cbbc-40c9-9641-bae3d3387d30",
   "metadata": {},
   "outputs": [],
   "source": [
    "# define an array using a range\n",
    "\n",
    "\n",
    "# define an array by wrapping a list with the numpy array method\n",
    "\n",
    "\n",
    "# define an array as a list of lists of equal length\n"
   ]
  },
  {
   "cell_type": "markdown",
   "id": "2c40ec15",
   "metadata": {},
   "source": [
    "Once arrays are created, its helpful to know their shapes and sizes::"
   ]
  },
  {
   "cell_type": "code",
   "execution_count": null,
   "id": "a6c493de-ece9-4237-904a-87e7b9b19459",
   "metadata": {},
   "outputs": [],
   "source": [
    "# print the shape of x\n",
    "\n",
    "\n",
    "# print the size of x\n",
    "\n",
    "\n",
    "# print the shape of y\n",
    "\n",
    "\n",
    "# print the size of y\n",
    "\n",
    "\n",
    "# print the shape of A\n",
    "\n",
    "\n",
    "# print the size of A\n"
   ]
  },
  {
   "cell_type": "markdown",
   "id": "8e40f4a0",
   "metadata": {},
   "source": [
    "### Calculations with One Array\n",
    "When working with arrays, calculations can be carried out *elementwise* using the same functions as above. Try the following functions using the array `x` defined in the previous cell:"
   ]
  },
  {
   "cell_type": "code",
   "execution_count": null,
   "id": "0321dbba",
   "metadata": {},
   "outputs": [],
   "source": [
    "# compute the square of all elements in x\n",
    "\n",
    "\n",
    "# compute the sin of all elements in y\n",
    "\n",
    "\n",
    "# compute the exponential of all elements in A\n",
    "\n",
    "\n",
    "# compute the mean of all elements in x\n",
    "\n",
    "\n",
    "# compute the sum of all elements in y\n"
   ]
  },
  {
   "cell_type": "markdown",
   "id": "d6404ed5",
   "metadata": {},
   "source": [
    "### Calculations with multiple arrays\n",
    "When working with arrays, calculations can be carried out *elementwise*"
   ]
  },
  {
   "cell_type": "code",
   "execution_count": null,
   "id": "e1dbcf85-b7f1-4400-9a42-6d9c6839068f",
   "metadata": {},
   "outputs": [],
   "source": [
    "# define a new array z that is the same length as the array y above\n",
    "\n",
    "\n",
    "# compute the sum of arrays y and z\n",
    "\n",
    "# compute the product of arrays y and z\n"
   ]
  },
  {
   "cell_type": "markdown",
   "id": "5f6b598e-2133-489e-80e5-0a705256fd91",
   "metadata": {},
   "source": [
    "### &#x1F914; Mini-Exercise\n",
    "Goal: Compute the root mean square error between a list of estimated and true values."
   ]
  },
  {
   "cell_type": "markdown",
   "id": "6b3a4e27",
   "metadata": {},
   "source": [
    "The root mean square error (RMSE) is calculated as\n",
    "$$ RMSE = \\sqrt{\\frac{1}{N} \\sum_{i=1}^{N} (e_i - t_i)^2} $$\n",
    "where $N$ is the number of points, $e_i$ is the $i$th estimated value, and $t_i$ is the $i$th true value.\n",
    "\n",
    "Repeat your calculation for the approximation to `sin(x)` now for 100 values between -1 and 1. Compute the RMSE between your approximation and the true value, calculated with `np.sin(x)`"
   ]
  },
  {
   "cell_type": "code",
   "execution_count": null,
   "id": "dc8ff325-9da6-4e04-90b7-f3e951aaf910",
   "metadata": {},
   "outputs": [],
   "source": [
    "# define an array x with values between -1 and 1\n",
    "\n",
    "# compute the estimate value of sin for each of these values\n",
    "# using functions on the array\n",
    "\n",
    "# compute the true value of sin for each value in x\n",
    "\n",
    "# compute the root mean square error for the true vs estimate value\n"
   ]
  },
  {
   "cell_type": "code",
   "execution_count": null,
   "id": "5961967f-520d-4710-9281-a043521e8c1b",
   "metadata": {},
   "outputs": [],
   "source": []
  }
 ],
 "metadata": {
  "kernelspec": {
   "display_name": "ms274",
   "language": "python",
   "name": "ms274"
  },
  "language_info": {
   "codemirror_mode": {
    "name": "ipython",
    "version": 3
   },
   "file_extension": ".py",
   "mimetype": "text/x-python",
   "name": "python",
   "nbconvert_exporter": "python",
   "pygments_lexer": "ipython3",
   "version": "3.10.12"
  }
 },
 "nbformat": 4,
 "nbformat_minor": 5
}
