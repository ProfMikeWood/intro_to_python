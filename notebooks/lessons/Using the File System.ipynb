{
 "cells": [
  {
   "cell_type": "markdown",
   "id": "49e61e1c",
   "metadata": {},
   "source": [
    "# Using the file system"
   ]
  },
  {
   "cell_type": "markdown",
   "id": "0c3a7daa-0a0a-481c-974f-6acd970606db",
   "metadata": {},
   "source": [
    "Name:\n",
    "\n",
    "Date:\n",
    "\n",
    "Learning Objectives:\n",
    "By the end of this lesson, you should be able to:\n",
    "1. Use the `os` module to write platform-independent scripts to access information about the file system\n",
    "2. Copy files using the `shutil` module\n",
    "3. Use the `glob` module to write Unix-type file search commands\n",
    "4. Use the `subprocess` module to run shell-script code from python"
   ]
  },
  {
   "cell_type": "markdown",
   "id": "f404e03e-ec21-4b42-a826-7e395d6e6c47",
   "metadata": {},
   "source": [
    "### Import Modules for this Notebook\n",
    "In the previous notebook introducing modules, we imported modules as we needed them. However, it is good practice to import all of the modules you need in your notebook (or other scripts) in one import block near the top of the file. For this notebook, we will use 4 modules:"
   ]
  },
  {
   "cell_type": "code",
   "execution_count": null,
   "id": "eeff5eb6-80dc-4a7e-9f72-79f30aac49a3",
   "metadata": {},
   "outputs": [],
   "source": [
    "# import the os, shutil, glob, and subprocess modules\n"
   ]
  },
  {
   "cell_type": "markdown",
   "id": "0d4b0f71",
   "metadata": {},
   "source": [
    "# Part 1: The `os` module and paths"
   ]
  },
  {
   "cell_type": "markdown",
   "id": "acf1e5a8",
   "metadata": {},
   "source": [
    "Python's built-in `os` module is a useful too to acccess information about the file system. Many of the `os` functions mimic common shell scripting commands but return python objects that can be used in Python code. Let's take a look at few examples:"
   ]
  },
  {
   "cell_type": "markdown",
   "id": "fd301475-5482-4912-ab71-73746f9450db",
   "metadata": {},
   "source": [
    "### The Current Working Directory"
   ]
  },
  {
   "cell_type": "code",
   "execution_count": null,
   "id": "58d5c54f",
   "metadata": {},
   "outputs": [],
   "source": [
    "# check your current working directory\n"
   ]
  },
  {
   "cell_type": "markdown",
   "id": "ae447a9f-8f9e-4752-8662-16ab3a9d1c00",
   "metadata": {},
   "source": [
    "Questions:\n",
    "1. What kind of path is this (absolute or relative)?\n",
    "2. What is the equivalent command in your terminal?"
   ]
  },
  {
   "cell_type": "markdown",
   "id": "0e695386-5f42-4efe-af1f-6e5c90afc603",
   "metadata": {},
   "source": [
    "### Contents of the Current Working Directory"
   ]
  },
  {
   "cell_type": "code",
   "execution_count": null,
   "id": "e723ec62-082e-4110-85e7-4a3df89fe162",
   "metadata": {},
   "outputs": [],
   "source": [
    "# check the contents of your current working directory\n"
   ]
  },
  {
   "cell_type": "markdown",
   "id": "326292da-3b5e-453f-b250-8bc57c64e0aa",
   "metadata": {},
   "source": [
    "Questions:\n",
    "1. What files are visible in your file system?\n",
    "2. What is the equivalent command in your terminal?"
   ]
  },
  {
   "cell_type": "markdown",
   "id": "70ec2990-874e-4758-8aeb-dffa6b30844a",
   "metadata": {},
   "source": [
    "### Paths on your machine\n",
    "Paths on your machine provide the address where certain data is stored. For example, the above list, we find that there is a directory called `data` in our present working directory. If we would like to provide a path in this folder, we just need to append `data` to our current path. However, different operating systems use different formats for the string representation of paths. The `os` module gives us a convenient way to write platform-independent paths."
   ]
  },
  {
   "cell_type": "code",
   "execution_count": null,
   "id": "cee5335f-d08d-4089-b745-9c7c6deb0ff9",
   "metadata": {},
   "outputs": [],
   "source": [
    "# create an absolute path to the data folder\n",
    "\n",
    "\n",
    "# print out the data folder path\n",
    "\n",
    "\n",
    "# print the number of files in the data folder\n"
   ]
  },
  {
   "cell_type": "markdown",
   "id": "a0e14d68",
   "metadata": {},
   "source": [
    "### &#x1F914; Mini-Exercise\n",
    "Goal: Get a list of all Jupyter Notebooks we've written in CS 122 so far using the `os` module."
   ]
  },
  {
   "cell_type": "code",
   "execution_count": null,
   "id": "c45e6c44",
   "metadata": {},
   "outputs": [],
   "source": [
    "# set an absolute path to your CS 122 directory\n",
    "\n",
    "\n",
    "# loop through the contents of your Lecture directory to get a list\n",
    "# of directories corresponding to each of the lectures we've had so far\n",
    "\n",
    "\n",
    "# for each lecture directory, loop through the contents and see \n",
    "# if any of the files have the extension 'ipynb'. Note also that\n",
    "# there may be hidden file for ipynb checkpoints, so be careful\n",
    "# about how your file comparison is checked\n",
    "\n",
    "\n",
    "# print out the list of notebooks, one per line\n"
   ]
  },
  {
   "cell_type": "markdown",
   "id": "17c033b8-2e22-4fb9-b6e7-6de2029aea18",
   "metadata": {},
   "source": [
    "### Making new directories\n",
    "The `os` module gives us the functionality to modify our file system. For example, we can make a new directory given an absolute (or relative) path."
   ]
  },
  {
   "cell_type": "code",
   "execution_count": null,
   "id": "64b06b54-9217-440c-88f7-fc69e9a1851b",
   "metadata": {},
   "outputs": [],
   "source": [
    "# define a path for a new organized_data directory\n",
    "\n",
    "\n",
    "# make a new directory called organized_data in the present working directory\n",
    "\n",
    "\n",
    "# revise the above line to provide a check to determine whether the data exists - only make it if it does not exist"
   ]
  },
  {
   "cell_type": "markdown",
   "id": "ae0d5097-df00-4688-a8ad-e361a8e60f45",
   "metadata": {},
   "source": [
    "Question: What is the equivalent command in the terminal?"
   ]
  },
  {
   "cell_type": "markdown",
   "id": "93ad1075-c79e-4ea0-a97b-0d3e98ae5a61",
   "metadata": {},
   "source": [
    "### Moving files to new directories\n",
    "The `os` module also provides a means to move files from one location on your machine to another: the `rename` method.\n",
    "\n",
    "In the following code block, we will practice creating directories and moving files using the 2022 data in the `data` folder. Begin by looping through the `data` directory and generating a folder in the `organized_data` directory for each month (e.g. 2022_01, 2022_02, etc). Then, move each 2022 file from the `data` directory into its corresponding month file in the `organized_data` directory"
   ]
  },
  {
   "cell_type": "code",
   "execution_count": null,
   "id": "00f313d7-8c81-4351-ab81-3a0c62716da1",
   "metadata": {},
   "outputs": [],
   "source": [
    "# make a new folder in the organized_data folder for each month in 2022\n",
    "\n",
    "\n",
    "    # check that the file is from 2022\n",
    "\n",
    "\n",
    "        # define the name of a new folder in the format YYYY_MM\n",
    "\n",
    "\n",
    "        # if this year_month is not yet in the organized_data directory, then make it\n",
    "\n",
    "\n",
    "        # move the file into the year_month folder\n",
    "        # define the src_path and the dest_path\n",
    "        # then, move the file\n"
   ]
  },
  {
   "cell_type": "markdown",
   "id": "600fe472-e0ae-402c-89a7-9391553192de",
   "metadata": {},
   "source": [
    "# Part 2: The `shutil` module\n",
    "The `shutil` mode provides the utility to make copies of files on your file system. There are three main functions used for copying files, as follows:\n",
    "\n",
    "|  | copyfile | copy | copy2 |\n",
    "| -- | -------- | ---- | ----- |\n",
    "| Destination can be a directory | N | Y | Y |\n",
    "| Copies metadata | N | N | Y |\n",
    "| Copies permissions | N | Y | Y |"
   ]
  },
  {
   "cell_type": "code",
   "execution_count": null,
   "id": "4628fe08-92ea-41a5-ae14-b188ff751081",
   "metadata": {},
   "outputs": [],
   "source": [
    "# define a path to the source data file 2023_0101.txt in data\n",
    "\n",
    "\n",
    "# define a destination path to the current directory with the file name\n",
    "\n",
    "\n",
    "# try the copyfile method with the dst path\n",
    "# what happens if you just provide the current directory?\n",
    "\n",
    "\n",
    "# try the copy method with the dst path\n",
    "\n",
    "\n",
    "# try the copy2 method with the dst path\n"
   ]
  },
  {
   "cell_type": "markdown",
   "id": "d9d5eb2d",
   "metadata": {},
   "source": [
    "### &#x1F914; Mini-Exercise\n",
    "Modify the code above to make copies of the 2023 data in monthly directories in the `organized_data` directory"
   ]
  },
  {
   "cell_type": "code",
   "execution_count": null,
   "id": "3622d726-217d-4653-b24f-60752f455aef",
   "metadata": {},
   "outputs": [],
   "source": [
    "# make a new folder in the organized_data folder for each month in 2022\n",
    "\n",
    "\n",
    "    # check that the file is from 2023\n",
    "\n",
    "\n",
    "        # define the name of a new folder in the format YYYY_MM\n",
    "\n",
    "\n",
    "        # if this year_month is not yet in the organized_data directory, then make it\n",
    "\n",
    "\n",
    "        # make a copy of the file in the year_month folder\n",
    "        # define the src_path and the dest_path\n",
    "        # then, copy the file using one of the shutil functions\n"
   ]
  },
  {
   "cell_type": "markdown",
   "id": "0c4a5b92",
   "metadata": {},
   "source": [
    "## Overview: Python Commands vs Unix Shell Commands\n",
    "\n",
    "| Python | Unix | Purpose |\n",
    "| ------ | ---- | ------- |\n",
    "| os.getcwd() | pwd | Determine the current/present working directory |\n",
    "| os.chdir() | cd | Change directory |\n",
    "| os.mkdir() | mkdir | Make a directory |\n",
    "| os.rename() | mv | Rename a file or move to a new location |\n",
    "| os.listdir() | ls | List the files and folders in a directory |\n",
    "| shutil.copy() | cp | Copy a file to a new location |"
   ]
  },
  {
   "cell_type": "markdown",
   "id": "9137110a-0918-45dd-8609-bda44856ff7b",
   "metadata": {},
   "source": [
    "# Part 3: The `glob` module\n",
    "When using Unix-type shell commands, wildcard symbols are extremely useful for finding and accessing subsets of files. There are 2 main wildcard symbols:\n",
    "\n",
    "| symbol | use |\n",
    "| ------ | --- |\n",
    "| `?`    | Wildcard for a single symbol |\n",
    "| `*`    | Wildcard symbol for any number of symbols |\n",
    "\n",
    "Try these in the `data` directory in your shelf:\n",
    "1. How would you determine the names of files that correspond to the first day of each month in 2023?\n",
    "2. How would you determine the name of all files that correspond to December of 2023?\n",
    "\n",
    "The `glob` module provides functionality to provide Unix-style searches of your file system."
   ]
  },
  {
   "cell_type": "code",
   "execution_count": null,
   "id": "e7343af5-6a81-485e-a5b8-454445ec7ac2",
   "metadata": {},
   "outputs": [],
   "source": [
    "# find all files names that correspond to the first day of each month in 2023\n",
    "\n",
    "\n",
    "# find all files in December 2023\n"
   ]
  },
  {
   "cell_type": "markdown",
   "id": "15935e3a",
   "metadata": {},
   "source": [
    "### &#x1F914; Mini-Exercise\n",
    "Goal: Get a list of all Jupyter Notebooks we've written in CS 122 so far using the `glob` module."
   ]
  },
  {
   "cell_type": "code",
   "execution_count": null,
   "id": "a16f689e",
   "metadata": {},
   "outputs": [],
   "source": [
    "# define a search path\n",
    "\n",
    "\n",
    "# use the glob module to get the list of paths for the notebooks\n",
    "\n",
    "\n",
    "# make a loop to just get the file name (not the whole path)\n",
    "\n",
    "\n",
    "# print the notebook files, line by line\n"
   ]
  },
  {
   "cell_type": "markdown",
   "id": "8517515f-e82e-46bb-9ecd-50e42020168b",
   "metadata": {},
   "source": [
    "# Part 4: The `subprocess` module\n",
    "The final module we will investigate in this notebook is the `subprocess` module. It's not necessarily related to using the file system, but its related to accessing the terminal and running shell scripts from Python, so it fits within the theme of this notebook.\n",
    "\n",
    "The most useful method of the `subprocess` module if Popen."
   ]
  },
  {
   "cell_type": "code",
   "execution_count": null,
   "id": "789d9be6-e44b-4c25-81a5-7e13319ab104",
   "metadata": {},
   "outputs": [],
   "source": [
    "# write a function to list the files in the current directory\n",
    "\n",
    "\n",
    "# the first and second arguments from Popen are the standard output and standard error\n",
    "# if a string is desired, then \"pipe\" the stdout\n",
    "\n",
    "\n",
    "# print the type of output\n",
    "\n",
    "\n",
    "# convert the type of the output to a string\n",
    "\n",
    "\n",
    "# split the output and print line by line\n"
   ]
  }
 ],
 "metadata": {
  "kernelspec": {
   "display_name": "Python 3 (ipykernel)",
   "language": "python",
   "name": "python3"
  },
  "language_info": {
   "codemirror_mode": {
    "name": "ipython",
    "version": 3
   },
   "file_extension": ".py",
   "mimetype": "text/x-python",
   "name": "python",
   "nbconvert_exporter": "python",
   "pygments_lexer": "ipython3",
   "version": "3.10.12"
  }
 },
 "nbformat": 4,
 "nbformat_minor": 5
}
