{
 "cells": [
  {
   "cell_type": "markdown",
   "id": "49e61e1c",
   "metadata": {},
   "source": [
    "# Introduction to Matplotlib"
   ]
  },
  {
   "cell_type": "markdown",
   "id": "0c3a7daa-0a0a-481c-974f-6acd970606db",
   "metadata": {},
   "source": [
    "Name:\n",
    "\n",
    "Date:\n",
    "\n",
    "Learning Objectives:\n",
    "By the end of this lesson, you should be able to:\n",
    "1. Create simple plots to visualize one-dimensional data\n",
    "2. Format line styles to change thickness, color, and marker style\n",
    "3. Modify plot axes to add labels and legends, and change the grid appearance"
   ]
  },
  {
   "cell_type": "markdown",
   "id": "059d3e86-c87d-411e-bd7e-63f26b727795",
   "metadata": {},
   "source": [
    "## Import the libraries for this notebook"
   ]
  },
  {
   "cell_type": "code",
   "execution_count": null,
   "id": "cf1fd9a0-0e7b-48c2-af2f-4c76fc006348",
   "metadata": {},
   "outputs": [],
   "source": [
    "# import the numpy and matplotlib libraries\n"
   ]
  },
  {
   "cell_type": "markdown",
   "id": "0d4b0f71",
   "metadata": {},
   "source": [
    "# Part 1: Simple Plots with Matplotlib"
   ]
  },
  {
   "cell_type": "markdown",
   "id": "acf1e5a8",
   "metadata": {},
   "source": [
    "The most used function in the `matplotlib` library is the `plot` command, used for visualizing a pair of one-dimensional data sets. One-dimensional data can be provided as lists or 1D numpy arrays."
   ]
  },
  {
   "cell_type": "code",
   "execution_count": null,
   "id": "792f93bd-72e6-43bf-bdb0-47005ba271a7",
   "metadata": {},
   "outputs": [],
   "source": [
    "# define two simple lists of data lists x and y\n"
   ]
  },
  {
   "cell_type": "code",
   "execution_count": null,
   "id": "36158797-ea5e-434f-9f1e-85c715e29d5b",
   "metadata": {},
   "outputs": [],
   "source": [
    "# use the matplotlib plot command to plot x and y\n",
    "\n",
    "\n",
    "# use the show command to demo the plot below\n"
   ]
  },
  {
   "cell_type": "markdown",
   "id": "7396b253",
   "metadata": {},
   "source": [
    "When plotting data, `matplotlib` will plot the data in the order that you provide it. Try shuffling your data lists and see how it changes the appearance of your plot."
   ]
  },
  {
   "cell_type": "code",
   "execution_count": null,
   "id": "18d76c91-38a5-4181-8502-16eb5a448431",
   "metadata": {},
   "outputs": [],
   "source": [
    "# shuffle the x and y values in two new lists called x_new and y_new\n"
   ]
  },
  {
   "cell_type": "code",
   "execution_count": null,
   "id": "e1d9559e-ea76-4266-83c8-8803e8e4665b",
   "metadata": {},
   "outputs": [],
   "source": [
    "# use the matplotlib plot command to plot x_new and y_new\n",
    "\n",
    "\n",
    "# use the show command to demo the plot below\n"
   ]
  },
  {
   "cell_type": "markdown",
   "id": "89ea2ed1",
   "metadata": {},
   "source": [
    "#### Plots with multiple lines\n",
    "A single plot can be used to visualize as many datasets as you'd like. Define two sets of data based on the same independent variable and plot them on the same graph using multiple calls to the same plot."
   ]
  },
  {
   "cell_type": "code",
   "execution_count": null,
   "id": "17f9bcd1-510e-430b-b99d-d59143360146",
   "metadata": {},
   "outputs": [],
   "source": [
    "# define a numpy array x with values between -1 and 1 in increments of 0.01\n",
    "\n",
    "\n",
    "# define y as 2*sin(x)\n",
    "\n",
    "\n",
    "# define z as identical to x\n"
   ]
  },
  {
   "cell_type": "code",
   "execution_count": null,
   "id": "65400216-8ccb-4640-b7e8-fa537f4e7f64",
   "metadata": {},
   "outputs": [],
   "source": [
    "# use the matplotlib plot command to plot x and y\n",
    "\n",
    "\n",
    "# use the matplotlib plot command to plot x and z\n",
    "\n",
    "\n",
    "# use the show command to demo the plot below\n"
   ]
  },
  {
   "cell_type": "markdown",
   "id": "276ae826",
   "metadata": {},
   "source": [
    "#### Figure Size\n",
    "By default, matplotlib will generate your plot with a width of 8 inches and a height of 6 inches. However, you may like to change the shape of your plot to better represent your underlying data. To modify the plot shape, you can define a figure and use the `figsize` argument to reshape it as necessary."
   ]
  },
  {
   "cell_type": "code",
   "execution_count": null,
   "id": "e3b2ff90-cfc7-4749-a275-04b371fb2e99",
   "metadata": {},
   "outputs": [],
   "source": [
    "# define a figure called fig and shape it to have a width of 10 and a height of 4\n",
    "\n",
    "\n",
    "# use the matplotlib plot command to plot x and y\n",
    "\n",
    "\n",
    "# use the matplotlib plot command to plot x and z\n",
    "\n",
    "\n",
    "# use the show command to demo the plot below\n"
   ]
  },
  {
   "cell_type": "markdown",
   "id": "de66a7c7-974b-4d79-875c-d5225dae0a71",
   "metadata": {},
   "source": [
    "### &#x1F914; Mini-Exercise\n",
    "Goal: Extend the plot above to include two additional lines. Define new functions of your choosing that use `x` as the independent variable."
   ]
  },
  {
   "cell_type": "code",
   "execution_count": null,
   "id": "3f1a2140-6296-4403-8b96-af7f9748f7b6",
   "metadata": {},
   "outputs": [],
   "source": [
    "# define a figure called fig and shape it to have a width of 10 and a height of 4\n",
    "\n",
    "\n",
    "# use the matplotlib plot command to plot x and y\n",
    "\n",
    "# use the matplotlib plot command to plot x and z\n",
    "\n",
    "# use the matplotlib plot command to plot x and y_new\n",
    "\n",
    "# use the matplotlib plot command to plot x and z_new\n",
    "\n",
    "\n",
    "# use the show command to demo the plot below\n"
   ]
  },
  {
   "cell_type": "markdown",
   "id": "600fe472-e0ae-402c-89a7-9391553192de",
   "metadata": {},
   "source": [
    "# Part 2: Formatting Line Styles\n",
    "In the examples above, we saw that Python automatically chose our line. Next, we will see how we can modify the appearance of our lines."
   ]
  },
  {
   "cell_type": "code",
   "execution_count": null,
   "id": "e811af09-02fa-4221-ac7b-39919b3a2b06",
   "metadata": {},
   "outputs": [],
   "source": [
    "# define an independent variable x\n",
    "\n",
    "\n",
    "# define two dependent variables y and z as functions of x\n"
   ]
  },
  {
   "cell_type": "code",
   "execution_count": null,
   "id": "307477a8-cbbc-40c9-9641-bae3d3387d30",
   "metadata": {},
   "outputs": [],
   "source": [
    "# make a new figure\n",
    "\n",
    "\n",
    "# plot y and z vs x\n",
    "# use the color keyword to change the color to one of your choosing\n",
    "# use the linewidth keyword to change the width to one of your choosing\n",
    "# use the linestyle keyword to change the style to one of your choosing\n"
   ]
  },
  {
   "cell_type": "markdown",
   "id": "1648884a-6a1a-40b8-ae59-b0161dcfec3f",
   "metadata": {},
   "source": [
    "### Line Styles\n",
    "\n",
    "| Symbol  | Description | Long Name |\n",
    "| ----------- | ----------- | ---- | \n",
    "| -       | Solid Line  | solid |\n",
    "| --      | Dashed Line | dashed | \n",
    "| -.      | Dashed and Dotted Line | dashdot |\n",
    "\n",
    "A list of all line styles is available at https://matplotlib.org/stable/gallery/lines_bars_and_markers/linestyles.html"
   ]
  },
  {
   "cell_type": "markdown",
   "id": "a2dda934-f289-4cb5-9d91-f40f44840841",
   "metadata": {},
   "source": [
    "### Line Colors\n",
    "| Color | Short Symbol | Long Name |\n",
    "| ------ | ---------- | --------- |\n",
    "| blue   | b          | blue |\n",
    "| black   | k          | black |\n",
    "| green   | g          | green |\n",
    "| red   | r          | red |\n",
    "\n",
    "A list of all colors is available at https://matplotlib.org/stable/gallery/color/named_colors.html"
   ]
  },
  {
   "cell_type": "markdown",
   "id": "b0b7b048-84ce-4548-9a08-fdf4d36aa1f7",
   "metadata": {},
   "source": [
    "### Other useful keywords\n",
    "\n",
    "| Keyword | Description |\n",
    "| ------- | ----------- |\n",
    "| alpha   | transparency value (0-1) |\n",
    "| marker | the symbol used for each data point |\n",
    "| marksize | size of the marker on the data points |\n"
   ]
  },
  {
   "cell_type": "markdown",
   "id": "a0b2a630-cb30-4af4-990e-7fada1438833",
   "metadata": {},
   "source": [
    "## Adding a Legend\n",
    "Legends can be added in Python by providing a `label` to each individual line that's plotted. Then, the legend generator will add each label to the plots:"
   ]
  },
  {
   "cell_type": "code",
   "execution_count": null,
   "id": "c6c9342a-e235-436c-b760-bfa19e6e830a",
   "metadata": {},
   "outputs": [],
   "source": [
    "# create a new figure \n",
    "\n",
    "# plot two lines, labeling them line_1 and line _2\n",
    "\n",
    "\n",
    "# add a legend\n",
    "\n",
    "\n",
    "# show the plot\n"
   ]
  },
  {
   "cell_type": "markdown",
   "id": "5f6b598e-2133-489e-80e5-0a705256fd91",
   "metadata": {},
   "source": [
    "### &#x1F914; Mini-Exercise\n",
    "Goal: Modify your code with 4 plots above to change the colors and style of each line. Label the lines and generate a legend."
   ]
  },
  {
   "cell_type": "code",
   "execution_count": null,
   "id": "f1d12c0f-a1b8-45cf-aa40-d1739bcc4c0d",
   "metadata": {},
   "outputs": [],
   "source": [
    "# Copy and paste your code from the previous mini exercise here\n",
    "# Then, edit as described above \n"
   ]
  },
  {
   "cell_type": "markdown",
   "id": "9137110a-0918-45dd-8609-bda44856ff7b",
   "metadata": {},
   "source": [
    "# Part 3: Formatting Plot Axes"
   ]
  },
  {
   "cell_type": "markdown",
   "id": "9f2e3c01-69b5-40e6-b3b5-b759004db56f",
   "metadata": {},
   "source": [
    "Once your lines are looking nice, the next thing we might want to do is adjust our axes to best represent our data. One way to make our plots more legible is to add grid lines:"
   ]
  },
  {
   "cell_type": "code",
   "execution_count": null,
   "id": "f62b9cee-1cb5-4b0a-a2f0-a9cfc50345c5",
   "metadata": {},
   "outputs": [],
   "source": [
    "# make a new plot figure \n",
    "\n",
    "\n",
    "# plot two of the lines you used above\n",
    "\n",
    "\n",
    "# add a grid to your plot\n",
    "\n",
    "\n",
    "# grids also have keywords for linestyle, linewidth, and alpha\n",
    "# Try out different values to observe the plot appearance\n",
    "\n",
    "# show the plot\n"
   ]
  },
  {
   "cell_type": "markdown",
   "id": "9088b9e4-a78a-4195-ad24-048f6c038eca",
   "metadata": {},
   "source": [
    "Next, we might want to add axis labels to explain to our readers what variables we are looking at. Add labels to the x and y axes here:"
   ]
  },
  {
   "cell_type": "code",
   "execution_count": null,
   "id": "ab3c0b50-27b7-45ea-997e-276dea304ed5",
   "metadata": {},
   "outputs": [],
   "source": [
    "# make a new plot figure \n",
    "\n",
    "\n",
    "# plot two of the lines you used above\n",
    "\n",
    "\n",
    "# add a grid to your plot\n",
    "\n",
    "# add labels to the x and y axes\n",
    "\n",
    "# show the plot\n"
   ]
  },
  {
   "cell_type": "markdown",
   "id": "f98e9bc7-a7e6-4db1-8633-569866e098b2",
   "metadata": {},
   "source": [
    "By default `matplotlib` will determine where it would like to put the plot ticks. However, we may often want to change the location of our ticks to better represent our data: "
   ]
  },
  {
   "cell_type": "code",
   "execution_count": null,
   "id": "5089c781-fbe8-4a77-b9dd-7e3401de830f",
   "metadata": {},
   "outputs": [],
   "source": [
    "# make a new plot figure \n",
    "\n",
    "\n",
    "# plot two of the lines you used above\n",
    "\n",
    "\n",
    "# add a grid to your plot\n",
    "\n",
    "\n",
    "# add labels to the x and y axes\n",
    "\n",
    "# use the plt.gca().set_xticks command to provide\n",
    "# a list where the axis ticks should be located\n",
    "\n",
    "\n",
    "# show the plot\n"
   ]
  },
  {
   "cell_type": "markdown",
   "id": "e199e506-9e5e-4b43-9b1a-3addc0bf402c",
   "metadata": {},
   "source": [
    "### &#x1F914; Mini-Exercise\n",
    "Goal: Modify your 4 line plot yet again to add a grid and format the axes."
   ]
  },
  {
   "cell_type": "code",
   "execution_count": null,
   "id": "42242fb3-60da-46b7-9f47-344e3e26168e",
   "metadata": {},
   "outputs": [],
   "source": [
    "# copy, paste, and edit your code from above here\n"
   ]
  }
 ],
 "metadata": {
  "kernelspec": {
   "display_name": "ms274",
   "language": "python",
   "name": "ms274"
  },
  "language_info": {
   "codemirror_mode": {
    "name": "ipython",
    "version": 3
   },
   "file_extension": ".py",
   "mimetype": "text/x-python",
   "name": "python",
   "nbconvert_exporter": "python",
   "pygments_lexer": "ipython3",
   "version": "3.10.12"
  }
 },
 "nbformat": 4,
 "nbformat_minor": 5
}
