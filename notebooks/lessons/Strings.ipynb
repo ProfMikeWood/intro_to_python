{
 "cells": [
  {
   "cell_type": "markdown",
   "id": "49e61e1c",
   "metadata": {},
   "source": [
    "# Strings\n",
    "\n",
    "Name: \n",
    "\n",
    "Date: \n",
    "\n",
    "Learning Outcomes:\n",
    "By the end of this lesson, you should be able to:\n",
    "1. Declare strings and access string chracters by their indices\n",
    "2. Maniputate strings with built-in string methods\n",
    "3. Format numbers as strings with specified round-off and/or padding"
   ]
  },
  {
   "cell_type": "markdown",
   "id": "04e2c288",
   "metadata": {},
   "source": [
    "# Part 1: Declaring Strings\n",
    "Strings are declared in Python using either double quotes or single quotes -- and it doesn't matter which! All that matters is that they are opened and closed with the same quote type."
   ]
  },
  {
   "cell_type": "code",
   "execution_count": null,
   "id": "38f5e3b6",
   "metadata": {},
   "outputs": [],
   "source": [
    "# create a string enclosed in single quotes\n",
    "\n",
    "# create a string enclosed in double quotes\n",
    "\n",
    "# print the strings\n"
   ]
  },
  {
   "cell_type": "markdown",
   "id": "79fe7db1",
   "metadata": {},
   "source": [
    "Strings can be concatenated using the `+` operator:"
   ]
  },
  {
   "cell_type": "code",
   "execution_count": null,
   "id": "6f3813dc",
   "metadata": {},
   "outputs": [],
   "source": [
    "# concatenat the two srings above\n"
   ]
  },
  {
   "cell_type": "markdown",
   "id": "df80d155",
   "metadata": {},
   "source": [
    "Unlike some other programming languages, Python data elements do not have an implicit toString() method. In other words, you must convert an object of a different type to a string before concatenation. Try it for your self:"
   ]
  },
  {
   "cell_type": "code",
   "execution_count": null,
   "id": "a496c037",
   "metadata": {},
   "outputs": [],
   "source": [
    "# try to concatenate an integer to one of the strings defined above\n",
    "\n",
    "# what happens? how can you alleviate this error?"
   ]
  },
  {
   "cell_type": "markdown",
   "id": "87985de8",
   "metadata": {},
   "source": [
    "Just like lists, tuples, and sets, the character(s) at a given location(s) in a string can be accessed using square brackets:"
   ]
  },
  {
   "cell_type": "code",
   "execution_count": null,
   "id": "e47f67f6",
   "metadata": {},
   "outputs": [],
   "source": [
    "# print the first letter of one of the words above\n"
   ]
  },
  {
   "cell_type": "markdown",
   "id": "e36c4f5b",
   "metadata": {},
   "source": [
    "Similarly, a subset of a string can be accessed in a similar way as for lists:"
   ]
  },
  {
   "cell_type": "code",
   "execution_count": null,
   "id": "153e208d",
   "metadata": {},
   "outputs": [],
   "source": [
    "# print the second and third letters of one of the words aboe\n"
   ]
  },
  {
   "cell_type": "markdown",
   "id": "52d71573",
   "metadata": {},
   "source": [
    "# Part 2: Manipulating Strings\n",
    "Beyond concatenation and accessing elements in a string, Python has many built-in methods for manipulating strings. The following table lists some of the common methods:\n",
    "| Method\t| Description                                                     |\n",
    "| --------- | --------------------------------------------------------------- |\n",
    "| split()   | Divides a string into a list of substrings with a given string  |\n",
    "| join()    | Concatenats a list of strings into a single string              |\n",
    "| strip()\t| Removes the whitespace on the left and right of a string        |\n",
    "| count()   | Returns the number of substrings with the given value           |\n",
    "| find()    | Rturns the index of the first occurances of the given substring |\n",
    "| replace() | Replaces each instance of a substring with a given substring    |\n",
    "| upper()   | Converts lowercase characters to uppercase characters           |\n",
    "| lower()   | Converts uppercase characters to lowercase characters           |\n",
    "| reverse() | Reverses the order of the string                                |"
   ]
  },
  {
   "cell_type": "markdown",
   "id": "70aa6205",
   "metadata": {},
   "source": [
    "## Splitting and joining\n",
    "Often, it is helpful to split a string into a list, make some edits and then rejoin the string. The `split` and `join` methods have different approachs to syntax. The split method operates on the string and takes a substring as an argument as:\n",
    "```\n",
    "string.split(<substring>)\n",
    "```\n",
    "Conversely, the join method operates on the substring and takes a list of strings as an argument:\n",
    "```\n",
    "<substring>.join(list)\n",
    "```\n",
    "For example, consider a string divided across three lines that you would like to join into a single line:"
   ]
  },
  {
   "cell_type": "code",
   "execution_count": null,
   "id": "7b532209",
   "metadata": {},
   "outputs": [],
   "source": [
    "# define a string written across three lines\n",
    "\n",
    "\n",
    "# split the string at the line breaks\n",
    "\n",
    "\n",
    "# print the resultant list from the previous command with an extra space\n",
    "\n",
    "\n",
    "# rejoin the string with spaces\n",
    "\n",
    "\n",
    "# print the resultant list from the previous command with an extra space\n"
   ]
  },
  {
   "cell_type": "markdown",
   "id": "1963b188",
   "metadata": {},
   "source": [
    "Most other string methods operate on the string itself (like the split command). For example:"
   ]
  },
  {
   "cell_type": "code",
   "execution_count": null,
   "id": "0bce81a9",
   "metadata": {},
   "outputs": [],
   "source": [
    "# replace the string 'split' with 'no longer split' in the\n",
    "# string resaulting from the previous cell\n"
   ]
  },
  {
   "cell_type": "markdown",
   "id": "a3244e57",
   "metadata": {},
   "source": [
    "### &#x1F914; Mini-Exercise\n",
    "Goal: Convert the tab-delimited line to a comma-delimited line that could be opened in Excel. To accomplish this, split the line at the tabs, \"wrap\" each item in double quotes, and then join back to a single string. The double quotes will ensure proper formatting in Excel. Your output should look as follows:\n",
    "```\n",
    "\"City, State\",\"Population\"\n",
    "\"Manhatten, NY\",\"1,000,000\"\n",
    "\"San Jose, CA\",\"1,000,000\"\n",
    "```"
   ]
  },
  {
   "cell_type": "code",
   "execution_count": null,
   "id": "b38c8e48",
   "metadata": {},
   "outputs": [],
   "source": [
    "# a tab delimited file is separated by tabs (\\t)\n",
    "tab_line = 'City, State\\tPopulation\\nManhatten, NY\\t1,000,000\\nSan Jose, CA\\t1,000,000'\n",
    "print(tab_line)\n",
    "print(' ')\n",
    "\n",
    "# split the string by tabs\n",
    "\n",
    "\n",
    "# for each substring, add double quotes to the string on each end\n",
    "# you can access each of the 4 substrings individually\n",
    "\n",
    "\n",
    "# join the substring using commas\n",
    "\n",
    "\n",
    "# wrap the next line escape characters with double quotes so each\n",
    "# line starts and ends with a double quote\n",
    "\n"
   ]
  },
  {
   "cell_type": "markdown",
   "id": "5d72f56d",
   "metadata": {},
   "source": [
    "# Part 3: Formatting Numbers as Strings\n",
    "## Floats with decimal places"
   ]
  },
  {
   "cell_type": "markdown",
   "id": "f2334d7a",
   "metadata": {},
   "source": [
    "Often, it is desireable to format numbers with strings. For example, Python, like all programming languages, is suceptible to round off errors:"
   ]
  },
  {
   "cell_type": "code",
   "execution_count": null,
   "id": "fa9a4d57",
   "metadata": {},
   "outputs": [],
   "source": [
    "squared_square_root = (3**0.5)**2\n",
    "print(squared_square_root)"
   ]
  },
  {
   "cell_type": "markdown",
   "id": "4f9f3f43",
   "metadata": {},
   "source": [
    "To format float-type numbers with a prescribed number of decimal points, we can use a formatting notation similar to that in other C-type languages:\n",
    "```\n",
    "'{:.Xf}'.format(number)\n",
    "```\n",
    "In this approach, the X indicates the desired number of decimal points. For example:"
   ]
  },
  {
   "cell_type": "code",
   "execution_count": null,
   "id": "89a38f7b",
   "metadata": {},
   "outputs": [],
   "source": [
    "# format the result above with 1 decimal place\n"
   ]
  },
  {
   "cell_type": "markdown",
   "id": "4b1e9b34",
   "metadata": {},
   "source": [
    "## Padding Integers\n",
    "When formatting integers as text, its often desireable to align numbers to easily compare values.\n",
    "\n",
    "For example, conside the following numbers:\n",
    "```\n",
    "5\n",
    "1754\n",
    "20\n",
    "5467890\n",
    "90724\n",
    "```"
   ]
  },
  {
   "cell_type": "markdown",
   "id": "e1933fe3",
   "metadata": {},
   "source": [
    "It is easier to compare the magnitude of each values when they are padded with spaces:"
   ]
  },
  {
   "cell_type": "code",
   "execution_count": null,
   "id": "96c40f0b",
   "metadata": {},
   "outputs": [],
   "source": [
    "# pad the integers above with 7 decimal places\n"
   ]
  },
  {
   "cell_type": "markdown",
   "id": "d8ed77c6",
   "metadata": {},
   "source": [
    "### &#x1F914; Mini-Exercise\n",
    "Goal: Use the format method to write the following list of numbers padded with room for 8 digits before the decimal place and 5 digits after the decimal place.\n",
    "```\n",
    "5.2\n",
    "1754.567\n",
    "20.43\n",
    "5467890.121\n",
    "90724.6\n",
    "```"
   ]
  },
  {
   "cell_type": "code",
   "execution_count": null,
   "id": "f213ac1e",
   "metadata": {},
   "outputs": [],
   "source": [
    "# enter code here\n"
   ]
  }
 ],
 "metadata": {
  "kernelspec": {
   "display_name": "teaching",
   "language": "python",
   "name": "teaching"
  },
  "language_info": {
   "codemirror_mode": {
    "name": "ipython",
    "version": 3
   },
   "file_extension": ".py",
   "mimetype": "text/x-python",
   "name": "python",
   "nbconvert_exporter": "python",
   "pygments_lexer": "ipython3",
   "version": "3.11.3"
  }
 },
 "nbformat": 4,
 "nbformat_minor": 5
}
